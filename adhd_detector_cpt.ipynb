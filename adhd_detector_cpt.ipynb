{
  "nbformat": 4,
  "nbformat_minor": 0,
  "metadata": {
    "colab": {
      "provenance": []
    },
    "kernelspec": {
      "name": "python3",
      "display_name": "Python 3"
    },
    "language_info": {
      "name": "python"
    }
  },
  "cells": [
    {
      "cell_type": "markdown",
      "source": [
        "**DNN MODEL USING PATEINT AND CPT DATA**\n"
      ],
      "metadata": {
        "id": "0C47sPuDqnUD"
      }
    },
    {
      "cell_type": "code",
      "source": [
        "from google.colab import drive\n",
        "drive.mount('/content/drive')\n"
      ],
      "metadata": {
        "colab": {
          "base_uri": "https://localhost:8080/"
        },
        "id": "5lKqcAfXhqhc",
        "outputId": "5a3ae58c-d4e3-4802-ba64-028a3cc48a75"
      },
      "execution_count": null,
      "outputs": [
        {
          "output_type": "stream",
          "name": "stdout",
          "text": [
            "Mounted at /content/drive\n"
          ]
        }
      ]
    },
    {
      "cell_type": "code",
      "source": [
        "zip_path = '/content/drive/MyDrive/adhd-diagnosis.zip'\n",
        "extract_path = '/content/drive/MyDrive/extracted files'"
      ],
      "metadata": {
        "id": "KKVJDLE5i0cF"
      },
      "execution_count": null,
      "outputs": []
    },
    {
      "cell_type": "code",
      "source": [
        "import zipfile\n",
        "\n",
        "with zipfile.ZipFile(zip_path, 'r') as zip_ref:\n",
        "    zip_ref.extractall(extract_path)\n"
      ],
      "metadata": {
        "id": "KJvpkIVajAwv"
      },
      "execution_count": null,
      "outputs": []
    },
    {
      "cell_type": "code",
      "source": [
        "## set path to the data\n",
        "cpt_folder = '/content/drive/MyDrive/extracted files/CPT_II_ConnersContinuousPerformanceTest.csv'\n",
        "patient_info_path = '/content/drive/MyDrive/extracted files/patient_info.csv'"
      ],
      "metadata": {
        "id": "ldGKoVizjHgL"
      },
      "execution_count": null,
      "outputs": []
    },
    {
      "cell_type": "code",
      "source": [
        "## reading the data\n",
        "with open(patient_info_path, 'r') as f:\n",
        "    for _ in range(5):\n",
        "        print(f.readline())\n"
      ],
      "metadata": {
        "colab": {
          "base_uri": "https://localhost:8080/"
        },
        "id": "TkHWKT87jZ-l",
        "outputId": "9bbfc8eb-b943-4d08-d708-adba4f8ca125"
      },
      "execution_count": null,
      "outputs": [
        {
          "output_type": "stream",
          "name": "stdout",
          "text": [
            "ID;SEX;AGE;ACC;ACC_TIME;ACC_DAYS;HRV;HRV_TIME;HRV_HOURS;CPT_II;ADHD;ADD;BIPOLAR;UNIPOLAR;ANXIETY;SUBSTANCE;OTHER;CT;MDQ_POS;WURS;ASRS;MADRS;HADS_A;HADS_D;MED;MED_Antidepr;MED_Moodstab;MED_Antipsych;MED_Anxiety_Benzo;MED_Sleep;MED_Analgesics_Opioids;MED_Stimulants;filter_$\n",
            "\n",
            "1;0;3;1;16:00:00;6;1;11:00:00;21;0;1;0;1;0;1;0;1;1;1;54;53;26;12;2;1;1;;;;;;;1\n",
            "\n",
            "2;0;4;1;10:54:00;6.8;0;;;1;1;0;0;1;0;0;1;1;1;83;62;11;2;7;0;;;;;;;;1\n",
            "\n",
            "3;1;2;1;15:28:00;7.2;1;15:25:00;21;1;1;0;1;0;0;1;0;0;0;72;60;6;8;0;0;;;;;;;;1\n",
            "\n",
            "4;1;3;0;;;1;16:55:00;22;1;1;0;1;0;1;1;0;0;9;82;46;19;12;6;1;1;;;1;;1;;0\n",
            "\n"
          ]
        }
      ]
    },
    {
      "cell_type": "code",
      "source": [
        "import pandas as pd\n",
        "\n",
        "patient_df = pd.read_csv(patient_info_path, delimiter=';')\n",
        "\n",
        "# Convert 'ID' column to  PatientID in activity data files\n",
        "patient_df['ID'] = patient_df['ID'].astype(str)\n",
        "\n",
        "# Rename 'ID' column to 'PatientID'\n",
        "patient_df.rename(columns={'ID': 'PatientID'}, inplace=True)\n",
        "\n",
        "\n",
        "patient_df = patient_df[['PatientID', 'ADHD']]\n",
        "\n",
        "\n",
        "patient_df.head()"
      ],
      "metadata": {
        "colab": {
          "base_uri": "https://localhost:8080/",
          "height": 206
        },
        "id": "GxYJivyJjeVM",
        "outputId": "0bd848bd-cd27-4c18-b163-60726bbc9238"
      },
      "execution_count": null,
      "outputs": [
        {
          "output_type": "execute_result",
          "data": {
            "text/plain": [
              "  PatientID  ADHD\n",
              "0         1     1\n",
              "1         2     1\n",
              "2         3     1\n",
              "3         4     1\n",
              "4         5     1"
            ],
            "text/html": [
              "\n",
              "  <div id=\"df-85a5f90a-731b-4527-b8c0-d3ac5ba40d63\" class=\"colab-df-container\">\n",
              "    <div>\n",
              "<style scoped>\n",
              "    .dataframe tbody tr th:only-of-type {\n",
              "        vertical-align: middle;\n",
              "    }\n",
              "\n",
              "    .dataframe tbody tr th {\n",
              "        vertical-align: top;\n",
              "    }\n",
              "\n",
              "    .dataframe thead th {\n",
              "        text-align: right;\n",
              "    }\n",
              "</style>\n",
              "<table border=\"1\" class=\"dataframe\">\n",
              "  <thead>\n",
              "    <tr style=\"text-align: right;\">\n",
              "      <th></th>\n",
              "      <th>PatientID</th>\n",
              "      <th>ADHD</th>\n",
              "    </tr>\n",
              "  </thead>\n",
              "  <tbody>\n",
              "    <tr>\n",
              "      <th>0</th>\n",
              "      <td>1</td>\n",
              "      <td>1</td>\n",
              "    </tr>\n",
              "    <tr>\n",
              "      <th>1</th>\n",
              "      <td>2</td>\n",
              "      <td>1</td>\n",
              "    </tr>\n",
              "    <tr>\n",
              "      <th>2</th>\n",
              "      <td>3</td>\n",
              "      <td>1</td>\n",
              "    </tr>\n",
              "    <tr>\n",
              "      <th>3</th>\n",
              "      <td>4</td>\n",
              "      <td>1</td>\n",
              "    </tr>\n",
              "    <tr>\n",
              "      <th>4</th>\n",
              "      <td>5</td>\n",
              "      <td>1</td>\n",
              "    </tr>\n",
              "  </tbody>\n",
              "</table>\n",
              "</div>\n",
              "    <div class=\"colab-df-buttons\">\n",
              "\n",
              "  <div class=\"colab-df-container\">\n",
              "    <button class=\"colab-df-convert\" onclick=\"convertToInteractive('df-85a5f90a-731b-4527-b8c0-d3ac5ba40d63')\"\n",
              "            title=\"Convert this dataframe to an interactive table.\"\n",
              "            style=\"display:none;\">\n",
              "\n",
              "  <svg xmlns=\"http://www.w3.org/2000/svg\" height=\"24px\" viewBox=\"0 -960 960 960\">\n",
              "    <path d=\"M120-120v-720h720v720H120Zm60-500h600v-160H180v160Zm220 220h160v-160H400v160Zm0 220h160v-160H400v160ZM180-400h160v-160H180v160Zm440 0h160v-160H620v160ZM180-180h160v-160H180v160Zm440 0h160v-160H620v160Z\"/>\n",
              "  </svg>\n",
              "    </button>\n",
              "\n",
              "  <style>\n",
              "    .colab-df-container {\n",
              "      display:flex;\n",
              "      gap: 12px;\n",
              "    }\n",
              "\n",
              "    .colab-df-convert {\n",
              "      background-color: #E8F0FE;\n",
              "      border: none;\n",
              "      border-radius: 50%;\n",
              "      cursor: pointer;\n",
              "      display: none;\n",
              "      fill: #1967D2;\n",
              "      height: 32px;\n",
              "      padding: 0 0 0 0;\n",
              "      width: 32px;\n",
              "    }\n",
              "\n",
              "    .colab-df-convert:hover {\n",
              "      background-color: #E2EBFA;\n",
              "      box-shadow: 0px 1px 2px rgba(60, 64, 67, 0.3), 0px 1px 3px 1px rgba(60, 64, 67, 0.15);\n",
              "      fill: #174EA6;\n",
              "    }\n",
              "\n",
              "    .colab-df-buttons div {\n",
              "      margin-bottom: 4px;\n",
              "    }\n",
              "\n",
              "    [theme=dark] .colab-df-convert {\n",
              "      background-color: #3B4455;\n",
              "      fill: #D2E3FC;\n",
              "    }\n",
              "\n",
              "    [theme=dark] .colab-df-convert:hover {\n",
              "      background-color: #434B5C;\n",
              "      box-shadow: 0px 1px 3px 1px rgba(0, 0, 0, 0.15);\n",
              "      filter: drop-shadow(0px 1px 2px rgba(0, 0, 0, 0.3));\n",
              "      fill: #FFFFFF;\n",
              "    }\n",
              "  </style>\n",
              "\n",
              "    <script>\n",
              "      const buttonEl =\n",
              "        document.querySelector('#df-85a5f90a-731b-4527-b8c0-d3ac5ba40d63 button.colab-df-convert');\n",
              "      buttonEl.style.display =\n",
              "        google.colab.kernel.accessAllowed ? 'block' : 'none';\n",
              "\n",
              "      async function convertToInteractive(key) {\n",
              "        const element = document.querySelector('#df-85a5f90a-731b-4527-b8c0-d3ac5ba40d63');\n",
              "        const dataTable =\n",
              "          await google.colab.kernel.invokeFunction('convertToInteractive',\n",
              "                                                    [key], {});\n",
              "        if (!dataTable) return;\n",
              "\n",
              "        const docLinkHtml = 'Like what you see? Visit the ' +\n",
              "          '<a target=\"_blank\" href=https://colab.research.google.com/notebooks/data_table.ipynb>data table notebook</a>'\n",
              "          + ' to learn more about interactive tables.';\n",
              "        element.innerHTML = '';\n",
              "        dataTable['output_type'] = 'display_data';\n",
              "        await google.colab.output.renderOutput(dataTable, element);\n",
              "        const docLink = document.createElement('div');\n",
              "        docLink.innerHTML = docLinkHtml;\n",
              "        element.appendChild(docLink);\n",
              "      }\n",
              "    </script>\n",
              "  </div>\n",
              "\n",
              "\n",
              "    <div id=\"df-f4df45e5-dbed-4f33-b937-096d3ffd7658\">\n",
              "      <button class=\"colab-df-quickchart\" onclick=\"quickchart('df-f4df45e5-dbed-4f33-b937-096d3ffd7658')\"\n",
              "                title=\"Suggest charts\"\n",
              "                style=\"display:none;\">\n",
              "\n",
              "<svg xmlns=\"http://www.w3.org/2000/svg\" height=\"24px\"viewBox=\"0 0 24 24\"\n",
              "     width=\"24px\">\n",
              "    <g>\n",
              "        <path d=\"M19 3H5c-1.1 0-2 .9-2 2v14c0 1.1.9 2 2 2h14c1.1 0 2-.9 2-2V5c0-1.1-.9-2-2-2zM9 17H7v-7h2v7zm4 0h-2V7h2v10zm4 0h-2v-4h2v4z\"/>\n",
              "    </g>\n",
              "</svg>\n",
              "      </button>\n",
              "\n",
              "<style>\n",
              "  .colab-df-quickchart {\n",
              "      --bg-color: #E8F0FE;\n",
              "      --fill-color: #1967D2;\n",
              "      --hover-bg-color: #E2EBFA;\n",
              "      --hover-fill-color: #174EA6;\n",
              "      --disabled-fill-color: #AAA;\n",
              "      --disabled-bg-color: #DDD;\n",
              "  }\n",
              "\n",
              "  [theme=dark] .colab-df-quickchart {\n",
              "      --bg-color: #3B4455;\n",
              "      --fill-color: #D2E3FC;\n",
              "      --hover-bg-color: #434B5C;\n",
              "      --hover-fill-color: #FFFFFF;\n",
              "      --disabled-bg-color: #3B4455;\n",
              "      --disabled-fill-color: #666;\n",
              "  }\n",
              "\n",
              "  .colab-df-quickchart {\n",
              "    background-color: var(--bg-color);\n",
              "    border: none;\n",
              "    border-radius: 50%;\n",
              "    cursor: pointer;\n",
              "    display: none;\n",
              "    fill: var(--fill-color);\n",
              "    height: 32px;\n",
              "    padding: 0;\n",
              "    width: 32px;\n",
              "  }\n",
              "\n",
              "  .colab-df-quickchart:hover {\n",
              "    background-color: var(--hover-bg-color);\n",
              "    box-shadow: 0 1px 2px rgba(60, 64, 67, 0.3), 0 1px 3px 1px rgba(60, 64, 67, 0.15);\n",
              "    fill: var(--button-hover-fill-color);\n",
              "  }\n",
              "\n",
              "  .colab-df-quickchart-complete:disabled,\n",
              "  .colab-df-quickchart-complete:disabled:hover {\n",
              "    background-color: var(--disabled-bg-color);\n",
              "    fill: var(--disabled-fill-color);\n",
              "    box-shadow: none;\n",
              "  }\n",
              "\n",
              "  .colab-df-spinner {\n",
              "    border: 2px solid var(--fill-color);\n",
              "    border-color: transparent;\n",
              "    border-bottom-color: var(--fill-color);\n",
              "    animation:\n",
              "      spin 1s steps(1) infinite;\n",
              "  }\n",
              "\n",
              "  @keyframes spin {\n",
              "    0% {\n",
              "      border-color: transparent;\n",
              "      border-bottom-color: var(--fill-color);\n",
              "      border-left-color: var(--fill-color);\n",
              "    }\n",
              "    20% {\n",
              "      border-color: transparent;\n",
              "      border-left-color: var(--fill-color);\n",
              "      border-top-color: var(--fill-color);\n",
              "    }\n",
              "    30% {\n",
              "      border-color: transparent;\n",
              "      border-left-color: var(--fill-color);\n",
              "      border-top-color: var(--fill-color);\n",
              "      border-right-color: var(--fill-color);\n",
              "    }\n",
              "    40% {\n",
              "      border-color: transparent;\n",
              "      border-right-color: var(--fill-color);\n",
              "      border-top-color: var(--fill-color);\n",
              "    }\n",
              "    60% {\n",
              "      border-color: transparent;\n",
              "      border-right-color: var(--fill-color);\n",
              "    }\n",
              "    80% {\n",
              "      border-color: transparent;\n",
              "      border-right-color: var(--fill-color);\n",
              "      border-bottom-color: var(--fill-color);\n",
              "    }\n",
              "    90% {\n",
              "      border-color: transparent;\n",
              "      border-bottom-color: var(--fill-color);\n",
              "    }\n",
              "  }\n",
              "</style>\n",
              "\n",
              "      <script>\n",
              "        async function quickchart(key) {\n",
              "          const quickchartButtonEl =\n",
              "            document.querySelector('#' + key + ' button');\n",
              "          quickchartButtonEl.disabled = true;  // To prevent multiple clicks.\n",
              "          quickchartButtonEl.classList.add('colab-df-spinner');\n",
              "          try {\n",
              "            const charts = await google.colab.kernel.invokeFunction(\n",
              "                'suggestCharts', [key], {});\n",
              "          } catch (error) {\n",
              "            console.error('Error during call to suggestCharts:', error);\n",
              "          }\n",
              "          quickchartButtonEl.classList.remove('colab-df-spinner');\n",
              "          quickchartButtonEl.classList.add('colab-df-quickchart-complete');\n",
              "        }\n",
              "        (() => {\n",
              "          let quickchartButtonEl =\n",
              "            document.querySelector('#df-f4df45e5-dbed-4f33-b937-096d3ffd7658 button');\n",
              "          quickchartButtonEl.style.display =\n",
              "            google.colab.kernel.accessAllowed ? 'block' : 'none';\n",
              "        })();\n",
              "      </script>\n",
              "    </div>\n",
              "\n",
              "    </div>\n",
              "  </div>\n"
            ],
            "application/vnd.google.colaboratory.intrinsic+json": {
              "type": "dataframe",
              "variable_name": "patient_df",
              "summary": "{\n  \"name\": \"patient_df\",\n  \"rows\": 103,\n  \"fields\": [\n    {\n      \"column\": \"PatientID\",\n      \"properties\": {\n        \"dtype\": \"string\",\n        \"num_unique_values\": 103,\n        \"samples\": [\n          \"32\",\n          \"70\",\n          \"65\"\n        ],\n        \"semantic_type\": \"\",\n        \"description\": \"\"\n      }\n    },\n    {\n      \"column\": \"ADHD\",\n      \"properties\": {\n        \"dtype\": \"number\",\n        \"std\": 0,\n        \"min\": 0,\n        \"max\": 1,\n        \"num_unique_values\": 2,\n        \"samples\": [\n          0,\n          1\n        ],\n        \"semantic_type\": \"\",\n        \"description\": \"\"\n      }\n    }\n  ]\n}"
            }
          },
          "metadata": {},
          "execution_count": 6
        }
      ]
    },
    {
      "cell_type": "code",
      "source": [
        "## reading the data\n",
        "with open(cpt_folder, 'r') as f:\n",
        "    for _ in range(5):\n",
        "        print(f.readline())\n"
      ],
      "metadata": {
        "colab": {
          "base_uri": "https://localhost:8080/"
        },
        "id": "n4NvFH6Wjkfo",
        "outputId": "02dbdb4c-54d0-4207-f7db-e133090c67d1"
      },
      "execution_count": null,
      "outputs": [
        {
          "output_type": "stream",
          "name": "stdout",
          "text": [
            "﻿ID;Assessment Status;Assessment Duration;Type;LastTrial;Trial1;Response1;Trial2;Response2;Trial3;Response3;Trial4;Response4;Trial5;Response5;Trial6;Response6;Trial7;Response7;Trial8;Response8;Trial9;Response9;Trial10;Response10;Trial11;Response11;Trial12;Response12;Trial13;Response13;Trial14;Response14;Trial15;Response15;Trial16;Response16;Trial17;Response17;Trial18;Response18;Trial19;Response19;Trial20;Response20;Trial21;Response21;Trial22;Response22;Trial23;Response23;Trial24;Response24;Trial25;Response25;Trial26;Response26;Trial27;Response27;Trial28;Response28;Trial29;Response29;Trial30;Response30;Trial31;Response31;Trial32;Response32;Trial33;Response33;Trial34;Response34;Trial35;Response35;Trial36;Response36;Trial37;Response37;Trial38;Response38;Trial39;Response39;Trial40;Response40;Trial41;Response41;Trial42;Response42;Trial43;Response43;Trial44;Response44;Trial45;Response45;Trial46;Response46;Trial47;Response47;Trial48;Response48;Trial49;Response49;Trial50;Response50;Trial51;Response51;Trial52;Response52;Trial53;Response53;Trial54;Response54;Trial55;Response55;Trial56;Response56;Trial57;Response57;Trial58;Response58;Trial59;Response59;Trial60;Response60;Trial61;Response61;Trial62;Response62;Trial63;Response63;Trial64;Response64;Trial65;Response65;Trial66;Response66;Trial67;Response67;Trial68;Response68;Trial69;Response69;Trial70;Response70;Trial71;Response71;Trial72;Response72;Trial73;Response73;Trial74;Response74;Trial75;Response75;Trial76;Response76;Trial77;Response77;Trial78;Response78;Trial79;Response79;Trial80;Response80;Trial81;Response81;Trial82;Response82;Trial83;Response83;Trial84;Response84;Trial85;Response85;Trial86;Response86;Trial87;Response87;Trial88;Response88;Trial89;Response89;Trial90;Response90;Trial91;Response91;Trial92;Response92;Trial93;Response93;Trial94;Response94;Trial95;Response95;Trial96;Response96;Trial97;Response97;Trial98;Response98;Trial99;Response99;Trial100;Response100;Trial101;Response101;Trial102;Response102;Trial103;Response103;Trial104;Response104;Trial105;Response105;Trial106;Response106;Trial107;Response107;Trial108;Response108;Trial109;Response109;Trial110;Response110;Trial111;Response111;Trial112;Response112;Trial113;Response113;Trial114;Response114;Trial115;Response115;Trial116;Response116;Trial117;Response117;Trial118;Response118;Trial119;Response119;Trial120;Response120;Trial121;Response121;Trial122;Response122;Trial123;Response123;Trial124;Response124;Trial125;Response125;Trial126;Response126;Trial127;Response127;Trial128;Response128;Trial129;Response129;Trial130;Response130;Trial131;Response131;Trial132;Response132;Trial133;Response133;Trial134;Response134;Trial135;Response135;Trial136;Response136;Trial137;Response137;Trial138;Response138;Trial139;Response139;Trial140;Response140;Trial141;Response141;Trial142;Response142;Trial143;Response143;Trial144;Response144;Trial145;Response145;Trial146;Response146;Trial147;Response147;Trial148;Response148;Trial149;Response149;Trial150;Response150;Trial151;Response151;Trial152;Response152;Trial153;Response153;Trial154;Response154;Trial155;Response155;Trial156;Response156;Trial157;Response157;Trial158;Response158;Trial159;Response159;Trial160;Response160;Trial161;Response161;Trial162;Response162;Trial163;Response163;Trial164;Response164;Trial165;Response165;Trial166;Response166;Trial167;Response167;Trial168;Response168;Trial169;Response169;Trial170;Response170;Trial171;Response171;Trial172;Response172;Trial173;Response173;Trial174;Response174;Trial175;Response175;Trial176;Response176;Trial177;Response177;Trial178;Response178;Trial179;Response179;Trial180;Response180;Trial181;Response181;Trial182;Response182;Trial183;Response183;Trial184;Response184;Trial185;Response185;Trial186;Response186;Trial187;Response187;Trial188;Response188;Trial189;Response189;Trial190;Response190;Trial191;Response191;Trial192;Response192;Trial193;Response193;Trial194;Response194;Trial195;Response195;Trial196;Response196;Trial197;Response197;Trial198;Response198;Trial199;Response199;Trial200;Response200;Trial201;Response201;Trial202;Response202;Trial203;Response203;Trial204;Response204;Trial205;Response205;Trial206;Response206;Trial207;Response207;Trial208;Response208;Trial209;Response209;Trial210;Response210;Trial211;Response211;Trial212;Response212;Trial213;Response213;Trial214;Response214;Trial215;Response215;Trial216;Response216;Trial217;Response217;Trial218;Response218;Trial219;Response219;Trial220;Response220;Trial221;Response221;Trial222;Response222;Trial223;Response223;Trial224;Response224;Trial225;Response225;Trial226;Response226;Trial227;Response227;Trial228;Response228;Trial229;Response229;Trial230;Response230;Trial231;Response231;Trial232;Response232;Trial233;Response233;Trial234;Response234;Trial235;Response235;Trial236;Response236;Trial237;Response237;Trial238;Response238;Trial239;Response239;Trial240;Response240;Trial241;Response241;Trial242;Response242;Trial243;Response243;Trial244;Response244;Trial245;Response245;Trial246;Response246;Trial247;Response247;Trial248;Response248;Trial249;Response249;Trial250;Response250;Trial251;Response251;Trial252;Response252;Trial253;Response253;Trial254;Response254;Trial255;Response255;Trial256;Response256;Trial257;Response257;Trial258;Response258;Trial259;Response259;Trial260;Response260;Trial261;Response261;Trial262;Response262;Trial263;Response263;Trial264;Response264;Trial265;Response265;Trial266;Response266;Trial267;Response267;Trial268;Response268;Trial269;Response269;Trial270;Response270;Trial271;Response271;Trial272;Response272;Trial273;Response273;Trial274;Response274;Trial275;Response275;Trial276;Response276;Trial277;Response277;Trial278;Response278;Trial279;Response279;Trial280;Response280;Trial281;Response281;Trial282;Response282;Trial283;Response283;Trial284;Response284;Trial285;Response285;Trial286;Response286;Trial287;Response287;Trial288;Response288;Trial289;Response289;Trial290;Response290;Trial291;Response291;Trial292;Response292;Trial293;Response293;Trial294;Response294;Trial295;Response295;Trial296;Response296;Trial297;Response297;Trial298;Response298;Trial299;Response299;Trial300;Response300;Trial301;Response301;Trial302;Response302;Trial303;Response303;Trial304;Response304;Trial305;Response305;Trial306;Response306;Trial307;Response307;Trial308;Response308;Trial309;Response309;Trial310;Response310;Trial311;Response311;Trial312;Response312;Trial313;Response313;Trial314;Response314;Trial315;Response315;Trial316;Response316;Trial317;Response317;Trial318;Response318;Trial319;Response319;Trial320;Response320;Trial321;Response321;Trial322;Response322;Trial323;Response323;Trial324;Response324;Trial325;Response325;Trial326;Response326;Trial327;Response327;Trial328;Response328;Trial329;Response329;Trial330;Response330;Trial331;Response331;Trial332;Response332;Trial333;Response333;Trial334;Response334;Trial335;Response335;Trial336;Response336;Trial337;Response337;Trial338;Response338;Trial339;Response339;Trial340;Response340;Trial341;Response341;Trial342;Response342;Trial343;Response343;Trial344;Response344;Trial345;Response345;Trial346;Response346;Trial347;Response347;Trial348;Response348;Trial349;Response349;Trial350;Response350;Trial351;Response351;Trial352;Response352;Trial353;Response353;Trial354;Response354;Trial355;Response355;Trial356;Response356;Trial357;Response357;Trial358;Response358;Trial359;Response359;Trial360;Response360;General TScore Omissions;Adhd TScore Omissions;Neuro TScore Omissions;Raw Score Omissions;Percent Omissions;General TScore Commissions;Adhd TScore Commissions;Neuro TScore Commissions;Raw Score Commissions;Percent Commissions;General TScore HitRT;Adhd TScore HitRT;Neuro TScore HitRT;Raw Score HitRT;Percent HitRT;General TScore HitSE;Adhd TScore HitSE;Neuro TScore HitSE;Raw Score HitSE;Percent HitSE;General TScore VarSE;Adhd TScore VarSE;Neuro TScore VarSE;Raw Score VarSE;Percent VarSE;General TScore DPrime;Adhd TScore DPrime;Neuro TScore DPrime;Raw Score DPrime;General TScore Beta;Adhd TScore Beta;Neuro TScore Beta;Raw Score Beta;General TScore Perseverations;Adhd TScore Perseverations;Neuro TScore Perseverations;Raw Score Perseverations;Percent Perseverations;General TScore HitRTBlock;Adhd TScore HitRTBlock;Neuro TScore HitRTBlock;Raw Score HitRTBlock;Percent HitRTBlock;General TScore HitSEBlock;Adhd TScore HitSEBlock;Neuro TScore HitSEBlock;Raw Score HitSEBlock;Percent HitSEBlock;General TScore HitRTIsi;Adhd TScore HitRTIsi;Neuro TScore HitRTIsi;Raw Score HitRTIsi;Percent HitRTIsi;General TScore HitSEIsi;Adhd TScore HitSEIsi;Neuro TScore HitSEIsi;Raw Score HitSEIsi;Percent HitSEIsi;Adhd Confidence Index;Neuro Confidence Index;Old Overall Index\n",
            "\n",
            "2;3;839999;6;360;11;-1;13;469;7;343;15;275;0;295;12;266;2;246;1;279;9;337;5;328;12;437;2;378;12;352;6;322;8;353;0;-1;8;256;5;306;13;318;2;329;10;310;10;342;14;285;5;435;11;478;5;291;0;322;11;385;13;358;8;291;6;324;2;295;15;307;3;299;7;392;12;315;2;307;0;-1;6;330;3;282;3;274;5;505;7;349;0;332;4;374;4;327;2;420;9;382;7;365;5;417;8;441;12;314;14;346;6;371;0;351;11;374;2;331;7;528;13;389;10;334;12;328;5;418;1;262;0;-1;4;303;0;386;5;378;3;291;5;391;10;433;2;386;9;398;5;341;15;393;12;396;12;332;13;325;4;405;10;301;10;272;3;251;0;313;3;464;12;380;9;422;1;446;10;290;1;283;15;297;1;488;2;473;3;457;0;354;7;458;12;592;13;438;12;384;10;451;1;404;10;356;4;320;6;448;11;281;10;222;6;273;10;264;14;254;2;285;12;286;8;326;13;288;13;300;2;309;6;398;15;491;0;898;0;-1;13;514;3;435;12;377;15;270;6;-1;11;425;12;370;6;358;14;341;11;555;15;729;0;316;5;360;14;305;0;-1;10;402;13;383;5;367;13;351;14;337;8;349;15;383;10;337;14;451;10;402;8;394;4;337;9;338;13;320;10;739;8;317;4;378;4;299;11;371;4;353;6;374;0;-1;12;377;6;320;0;281;3;283;11;326;8;277;14;269;0;467;10;340;12;281;8;262;5;273;5;332;15;275;4;335;2;355;6;277;13;259;9;310;6;401;14;423;9;425;0;364;1;390;9;302;4;323;13;266;3;295;4;279;0;343;14;-1;5;305;3;347;1;250;5;292;5;283;0;285;5;355;10;-1;7;277;10;259;11;230;5;325;6;369;11;331;5;284;11;333;8;426;15;359;10;441;5;404;14;497;8;390;13;393;0;307;11;399;14;491;2;525;13;300;9;373;0;306;11;289;12;332;4;305;9;408;5;450;15;334;13;513;13;298;6;318;9;319;4;321;9;322;3;315;8;306;1;239;12;309;3;400;7;403;6;442;0;355;11;258;10;269;8;309;2;296;0;303;1;356;15;473;3;663;0;-1;10;370;11;340;8;600;12;621;6;742;1;1102;5;883;7;676;10;727;7;866;10;749;6;651;15;801;0;-1;7;349;4;469;13;639;2;976;9;691;5;334;10;256;6;306;12;366;2;326;7;357;11;319;7;289;12;300;0;280;11;528;0;371;10;441;2;295;1;275;1;247;14;277;14;258;10;352;7;415;10;348;7;473;1;-1;9;354;7;355;6;339;8;391;8;330;10;332;0;414;13;310;0;454;10;445;6;557;5;411;5;345;5;416;13;379;14;847;3;326;3;338;0;331;1;344;15;466;2;449;8;451;9;673;4;339;14;452;1;336;15;577;5;719;4;767;0;343;3;434;12;457;1;-1;9;470;9;549;9;324;10;285;10;344;1;394;6;405;13;395;10;347;7;348;2;348;1;339;11;301;0;301;2;393;3;267;0;293;7;338;6;339;10;359;1;369;11;767;10;342;0;325;11;692;2;357;0;442;9;365;15;306;6;379;12;301;4;332;9;354;6;327;7;327;15;369;13;361;15;374;13;325;15;256;61.88803101;48.61706924;44.81360245;5;1.54798758;84.98156738;78.34697723;68.70776367;28;77.77777863;45.23688507;46.28616714;41.44452286;383.8207397;0;62.6481514;52.26672363;46.32817078;7.099574089;0;63.2621727;56.68026352;47.3132019;11.21308136;0;72.87966919;73.86075592;65.30633545;0.045588084;46.04304123;45.37939453;45.29776001;0.382657379;45.91009521;45.96099091;44.97771454;0;0;70.13329315;72.35338593;65.29873657;0.044415575;0;85.95743561;73.41329956;65.0075531;0.183580965;0;51.22903442;44.76422119;47.79859543;0.049591608;0;48.02110291;47.77253723;43.22429657;-0.021096094;0;61.14549637;58.74962997;10.06999969\n",
            "\n",
            "3;3;839999;6;360;12;-1;0;371;2;254;12;246;10;246;11;256;6;286;2;535;11;269;9;300;12;349;11;432;3;243;13;274;0;285;11;394;6;277;12;276;12;239;9;338;3;289;1;350;10;263;2;324;0;237;3;279;13;289;15;262;15;303;3;304;5;296;0;-1;4;250;10;311;5;243;1;274;15;266;8;266;4;268;11;320;9;243;10;393;15;397;14;321;2;314;10;365;6;300;0;283;2;494;0;288;13;387;14;341;10;305;4;318;12;518;3;343;8;327;14;339;10;500;12;299;9;352;11;-1;3;375;12;486;1;299;11;322;2;351;5;450;8;316;1;297;0;239;3;241;5;242;3;234;9;305;12;356;6;328;9;349;9;321;0;262;12;434;4;340;7;323;13;237;5;329;10;311;3;404;3;338;11;290;5;294;15;555;14;451;14;326;0;-1;0;283;12;296;9;300;7;422;7;385;4;289;2;302;7;857;3;584;11;298;5;82;0;300;8;300;14;380;0;273;8;-1;8;184;6;146;7;404;2;385;13;406;1;247;15;368;10;280;3;340;7;350;6;362;0;-1;14;328;13;312;0;313;15;327;8;344;5;299;5;430;14;364;6;-1;9;381;6;351;6;393;7;367;4;529;7;323;10;415;6;439;3;292;0;375;15;396;13;339;13;300;8;678;3;252;15;285;15;326;7;436;5;527;13;330;5;213;3;304;0;8;6;297;6;298;11;241;10;243;12;342;9;285;8;-1;6;436;0;376;8;359;3;299;9;319;12;261;3;241;1;253;0;541;7;254;2;274;13;294;10;266;6;228;1;277;11;239;2;319;15;271;10;360;8;410;3;301;14;273;7;373;2;512;15;306;0;-1;7;316;0;157;9;446;12;270;14;251;10;152;3;82;12;105;8;75;12;106;9;236;9;226;13;237;15;516;0;-1;12;-1;2;306;10;369;6;342;4;275;1;329;2;312;7;355;12;577;0;301;6;556;5;378;6;303;12;336;13;319;12;332;9;373;7;502;3;248;9;398;10;281;15;341;15;233;0;275;10;247;10;238;4;-1;10;162;10;74;8;-1;10;9;12;445;8;140;15;300;9;321;0;292;10;226;15;257;11;-1;0;290;7;361;1;461;3;225;8;254;1;267;13;238;11;220;11;272;7;253;13;245;3;305;12;207;0;308;13;260;14;263;5;294;7;-1;10;248;0;209;3;337;6;309;1;270;15;509;6;243;5;-1;14;173;9;214;8;275;5;267;8;258;4;514;0;269;6;260;3;369;15;231;13;342;11;342;4;283;15;572;0;-1;2;438;11;579;10;305;9;348;8;352;3;327;13;300;9;323;1;376;2;308;4;252;14;305;14;-1;2;321;12;354;13;300;0;-1;7;296;2;369;9;371;10;326;10;278;0;360;5;294;3;376;6;338;0;332;13;414;12;250;3;341;10;552;11;624;11;350;3;402;8;249;11;350;3;334;5;525;15;420;13;419;7;243;2;272;6;234;0;284;6;274;3;246;6;197;3;287;5;308;4;290;10;409;4;241;12;301;11;292;0;-1;10;214;15;285;4;265;7;187;4;524;10;290;14;260;0;253;3;313;1;395;15;297;4;239;7;330;7;321;0;312;15;236;12;326;5;266;9;290;15;320;14;283;11;323;2;285;78.75696564;70.25856781;47.90799332;11;3.405572653;65.98159027;70.89141846;66.35723114;28;77.77777863;36.56990433;29.08356857;36.73733521;325.2084656;0;53.06898117;49.88425446;43.21704102;5.512853146;0;55.96683121;52.4876442;44.69877625;7.517670155;0;59.78691483;63.6686821;59.99730301;0.197339952;47.86362076;48.11787796;44.42132568;0.501448154;151.5252075;77.10198212;49.62815857;5;1.54798758;45.7826004;44.86631775;47.25635529;-0.008957636;0;60.6863327;56.10896301;51.3819046;0.01904762;0;56.69829559;53.88028336;47.52963257;0.064089641;0;42.23409653;38.26328278;41.57457352;-0.077350616;0;86.87159729;61.0886879;4.440000057\n",
            "\n",
            "4;3;839999;6;360;14;-1;10;-1;3;421;11;393;3;384;2;377;1;407;5;399;11;465;14;595;12;249;9;440;0;441;10;659;14;549;7;500;6;-1;4;87;3;612;0;335;9;997;14;354;11;356;12;-1;9;348;3;351;0;280;5;331;5;315;2;571;10;413;15;347;3;377;1;476;6;567;3;527;4;479;1;542;6;402;0;383;11;609;3;460;13;393;2;548;8;577;2;619;0;-1;1;484;8;635;2;629;5;658;5;472;8;486;7;497;6;607;7;383;14;511;0;-1;10;259;10;438;9;510;1;373;2;407;0;375;2;396;4;342;5;376;2;463;4;778;11;541;0;524;7;615;8;382;1;443;12;405;4;347;14;733;7;617;14;605;1;499;0;-1;9;541;10;535;13;429;3;339;15;867;12;521;10;442;8;376;9;-1;1;548;12;502;7;737;7;474;13;426;8;313;11;338;0;411;1;836;4;478;0;-1;9;541;8;373;1;259;3;210;10;262;3;211;4;304;1;296;2;318;15;302;0;255;12;257;6;318;13;390;15;948;8;-1;9;268;9;317;11;396;5;300;0;607;0;444;6;456;10;613;4;759;5;314;12;822;11;523;13;474;6;608;13;541;11;553;12;603;10;519;5;472;14;575;4;410;7;480;3;471;15;755;15;446;13;398;3;391;15;302;12;412;15;425;2;414;0;-1;5;310;1;269;2;321;6;353;11;342;8;531;14;563;12;296;7;346;12;1221;0;765;6;-1;1;402;14;463;2;294;7;371;2;640;0;205;5;465;10;356;2;545;12;336;9;425;14;545;13;381;3;262;13;313;15;430;0;371;5;-1;12;558;5;522;11;-1;14;155;7;474;0;366;8;-1;9;329;2;220;0;318;8;-1;5;251;4;342;3;352;7;413;6;343;9;441;14;650;15;433;11;335;5;407;10;384;5;548;10;737;7;382;7;377;5;544;12;516;2;366;13;367;12;341;3;462;0;-1;14;552;10;549;15;511;11;861;15;660;14;443;2;745;0;414;15;661;0;-1;9;475;3;407;7;412;14;372;15;789;13;604;3;642;10;394;1;438;14;571;9;698;5;601;12;332;8;343;13;644;0;335;9;367;10;368;15;429;1;379;0;444;9;626;1;-1;13;-1;10;500;7;392;9;545;3;365;12;704;6;538;7;292;5;323;4;328;10;299;6;354;12;90;15;339;0;470;14;328;2;764;0;368;12;338;7;388;12;540;8;391;14;620;13;390;1;441;10;352;9;464;11;454;13;485;4;493;7;394;0;-1;12;249;5;319;8;359;4;309;12;423;9;544;14;420;0;-1;7;484;2;576;12;442;0;-1;9;714;11;664;9;414;12;644;9;651;15;762;7;694;8;589;9;480;6;563;4;876;1;371;13;419;9;506;0;368;3;441;15;764;10;467;0;-1;5;295;14;639;5;524;10;629;3;649;6;462;12;585;8;597;14;462;5;614;2;684;9;807;13;592;0;-1;3;406;0;307;9;446;15;330;8;360;13;382;13;568;12;698;11;808;10;-1;6;436;9;356;1;355;6;485;2;-1;15;2;10;-1;5;686;1;239;8;380;1;362;12;361;6;475;5;369;0;419;4;622;7;518;13;558;0;-1;4;325;10;324;12;424;6;366;6;664;9;398;3;609;14;430;7;520;92.08678436;81.13565063;48.82153702;15;4.64396286;60.15982056;63.19458008;60.40382767;23;63.88888931;66.40333557;64.07228851;50.9150238;474.3409729;0;71.55712891;73.54888916;50.40332031;8.852734566;0;54.91453934;51.57740402;44.0921402;7.212326527;0;60.40893936;64.46832275;60.59342575;0.165447071;50.0993309;54.7157402;46.00944901;0.815376282;109.2230377;64.04078674;48.38868713;3;0.928792596;54.43350601;51.9854393;52.72111511;0.010057431;0;57.36494446;53.1795578;49.82556152;0.001247152;0;61.66834259;57.21377945;49.6483078;0.077233449;0;45.68078232;42.28931046;43.86806107;-0.046142034;0;99.90000153;86.13181305;18.34000015\n",
            "\n",
            "5;3;839999;6;360;12;459;7;289;12;256;7;254;4;244;9;251;0;255;12;295;8;252;0;267;8;344;2;270;12;260;13;306;2;465;2;278;6;284;10;257;4;272;5;254;9;300;1;322;15;320;7;326;13;316;7;345;4;311;4;318;12;300;10;280;3;320;5;286;6;-1;10;212;9;434;0;256;14;325;0;292;3;314;8;295;4;246;14;307;11;297;1;391;0;317;9;386;11;329;14;319;13;357;11;442;15;337;15;350;7;557;13;347;1;369;1;310;5;357;2;315;9;288;0;727;15;660;9;522;11;296;3;303;4;765;5;362;13;336;0;268;12;404;12;297;13;320;1;462;13;316;7;434;0;-1;5;552;8;350;7;372;3;258;12;327;13;276;9;482;1;264;10;437;7;331;5;361;12;367;1;374;0;299;0;-1;15;377;14;271;7;334;13;435;11;304;12;319;11;301;7;258;8;425;7;311;9;325;14;594;2;94;7;65;7;278;3;309;0;939;4;-1;11;457;9;367;4;244;15;275;15;224;12;231;1;220;10;193;14;216;9;255;5;292;0;313;8;376;4;366;2;372;5;298;11;295;4;302;0;276;8;338;7;502;12;230;0;283;14;330;1;280;8;422;12;235;12;250;7;280;8;342;8;331;10;305;7;407;6;605;5;882;6;441;6;367;15;364;5;427;2;297;8;319;1;301;1;370;0;265;3;310;5;342;13;171;4;256;2;287;5;237;0;281;11;361;11;294;0;316;14;442;5;312;9;271;8;261;8;250;7;297;9;327;8;317;9;306;4;248;7;326;0;293;6;306;4;288;1;294;10;308;10;506;9;336;10;382;11;364;13;410;2;329;12;295;2;340;12;290;14;312;6;413;6;404;6;424;2;310;0;339;9;425;15;352;8;374;6;354;10;403;0;382;2;419;2;362;9;421;4;371;3;425;0;334;5;316;10;329;4;303;14;294;1;292;0;666;3;408;14;357;5;351;12;309;1;355;1;321;1;359;11;587;10;347;3;305;0;-1;0;335;7;573;13;338;12;313;1;279;6;293;7;290;4;264;6;231;7;93;6;355;4;320;15;438;1;333;2;258;13;263;12;295;12;356;9;315;7;424;2;359;13;348;0;401;8;551;13;614;0;316;4;354;11;240;3;-1;5;300;10;306;7;303;6;486;8;284;2;370;2;312;9;133;14;347;5;338;11;480;11;278;10;260;10;218;15;192;14;174;15;91;12;98;8;63;12;101;1;187;2;184;4;248;13;246;12;291;0;335;0;277;6;324;4;409;14;423;4;427;13;456;12;559;1;470;7;347;11;296;12;-1;6;406;10;437;11;-1;4;3411;14;-1;8;-1;3;313;1;294;0;300;0;627;14;609;12;391;0;740;3;450;5;360;2;333;15;300;15;-1;14;354;1;295;6;694;4;323;13;473;7;375;2;486;12;347;0;-1;9;314;6;327;4;613;1;7;8;274;5;352;15;348;9;268;9;289;3;231;15;173;2;138;15;25;11;231;5;277;9;219;9;240;13;288;0;277;0;731;6;-1;8;169;11;246;1;205;11;219;7;129;7;388;6;275;6;449;0;335;11;509;12;274;3;-1;15;425;7;351;5;332;15;330;7;600;10;479;0;379;15;561;5;383;2;476;14;298;9;344;70.98317719;50.87657547;50.03491974;10;3.095975161;72.72769165;69.96162415;72.26365662;32;88.8888855;45.36849213;42.58529282;41.40980911;350.9147644;0;73.4441452;57.78928375;56.71408081;11.57500744;0;83.32419586;67.4437027;71.50268555;43.37241745;0;58.1102066;57.69762802;59.4444046;0.282014489;47.26193619;46.76966476;45.15321732;0.497767955;95.52941132;60.98286819;64.22187805;8;2.476780176;57.86092377;55.11751938;57.4143219;0.025008138;0;77.91352844;72.04343414;74.16854095;0.222427219;0;59.79709244;51.60170746;50.69152451;0.085539684;0;85.69869995;70.46998596;80.22853851;0.41063419;0;99.90000153;99.90000153;8.950000763\n",
            "\n"
          ]
        }
      ]
    },
    {
      "cell_type": "code",
      "source": [
        "import pandas as pd\n",
        "\n",
        "patient_df = pd.read_csv(patient_info_path, delimiter=';')\n",
        "\n",
        "# Convert 'ID' column to  PatientID in activity data files\n",
        "patient_df['ID'] = patient_df['ID'].astype(str)\n",
        ",\n",
        "# Rename 'ID' column to 'PatientID'\n",
        "patient_df.rename(columns={'ID': 'PatientID'}, inplace=True)\n",
        "\n",
        "\n",
        "patient_df = patient_df[['PatientID', 'ADHD']]\n",
        "\n",
        "\n",
        "patient_df.head()\n"
      ],
      "metadata": {
        "colab": {
          "base_uri": "https://localhost:8080/",
          "height": 206
        },
        "id": "243VG9RBjtf9",
        "outputId": "480eda20-8b34-4f13-c426-a39a7ba3671d"
      },
      "execution_count": null,
      "outputs": [
        {
          "output_type": "execute_result",
          "data": {
            "text/plain": [
              "  PatientID  ADHD\n",
              "0         1     1\n",
              "1         2     1\n",
              "2         3     1\n",
              "3         4     1\n",
              "4         5     1"
            ],
            "text/html": [
              "\n",
              "  <div id=\"df-4a954d1a-28c5-4fbf-9cd6-6828e96cd8a3\" class=\"colab-df-container\">\n",
              "    <div>\n",
              "<style scoped>\n",
              "    .dataframe tbody tr th:only-of-type {\n",
              "        vertical-align: middle;\n",
              "    }\n",
              "\n",
              "    .dataframe tbody tr th {\n",
              "        vertical-align: top;\n",
              "    }\n",
              "\n",
              "    .dataframe thead th {\n",
              "        text-align: right;\n",
              "    }\n",
              "</style>\n",
              "<table border=\"1\" class=\"dataframe\">\n",
              "  <thead>\n",
              "    <tr style=\"text-align: right;\">\n",
              "      <th></th>\n",
              "      <th>PatientID</th>\n",
              "      <th>ADHD</th>\n",
              "    </tr>\n",
              "  </thead>\n",
              "  <tbody>\n",
              "    <tr>\n",
              "      <th>0</th>\n",
              "      <td>1</td>\n",
              "      <td>1</td>\n",
              "    </tr>\n",
              "    <tr>\n",
              "      <th>1</th>\n",
              "      <td>2</td>\n",
              "      <td>1</td>\n",
              "    </tr>\n",
              "    <tr>\n",
              "      <th>2</th>\n",
              "      <td>3</td>\n",
              "      <td>1</td>\n",
              "    </tr>\n",
              "    <tr>\n",
              "      <th>3</th>\n",
              "      <td>4</td>\n",
              "      <td>1</td>\n",
              "    </tr>\n",
              "    <tr>\n",
              "      <th>4</th>\n",
              "      <td>5</td>\n",
              "      <td>1</td>\n",
              "    </tr>\n",
              "  </tbody>\n",
              "</table>\n",
              "</div>\n",
              "    <div class=\"colab-df-buttons\">\n",
              "\n",
              "  <div class=\"colab-df-container\">\n",
              "    <button class=\"colab-df-convert\" onclick=\"convertToInteractive('df-4a954d1a-28c5-4fbf-9cd6-6828e96cd8a3')\"\n",
              "            title=\"Convert this dataframe to an interactive table.\"\n",
              "            style=\"display:none;\">\n",
              "\n",
              "  <svg xmlns=\"http://www.w3.org/2000/svg\" height=\"24px\" viewBox=\"0 -960 960 960\">\n",
              "    <path d=\"M120-120v-720h720v720H120Zm60-500h600v-160H180v160Zm220 220h160v-160H400v160Zm0 220h160v-160H400v160ZM180-400h160v-160H180v160Zm440 0h160v-160H620v160ZM180-180h160v-160H180v160Zm440 0h160v-160H620v160Z\"/>\n",
              "  </svg>\n",
              "    </button>\n",
              "\n",
              "  <style>\n",
              "    .colab-df-container {\n",
              "      display:flex;\n",
              "      gap: 12px;\n",
              "    }\n",
              "\n",
              "    .colab-df-convert {\n",
              "      background-color: #E8F0FE;\n",
              "      border: none;\n",
              "      border-radius: 50%;\n",
              "      cursor: pointer;\n",
              "      display: none;\n",
              "      fill: #1967D2;\n",
              "      height: 32px;\n",
              "      padding: 0 0 0 0;\n",
              "      width: 32px;\n",
              "    }\n",
              "\n",
              "    .colab-df-convert:hover {\n",
              "      background-color: #E2EBFA;\n",
              "      box-shadow: 0px 1px 2px rgba(60, 64, 67, 0.3), 0px 1px 3px 1px rgba(60, 64, 67, 0.15);\n",
              "      fill: #174EA6;\n",
              "    }\n",
              "\n",
              "    .colab-df-buttons div {\n",
              "      margin-bottom: 4px;\n",
              "    }\n",
              "\n",
              "    [theme=dark] .colab-df-convert {\n",
              "      background-color: #3B4455;\n",
              "      fill: #D2E3FC;\n",
              "    }\n",
              "\n",
              "    [theme=dark] .colab-df-convert:hover {\n",
              "      background-color: #434B5C;\n",
              "      box-shadow: 0px 1px 3px 1px rgba(0, 0, 0, 0.15);\n",
              "      filter: drop-shadow(0px 1px 2px rgba(0, 0, 0, 0.3));\n",
              "      fill: #FFFFFF;\n",
              "    }\n",
              "  </style>\n",
              "\n",
              "    <script>\n",
              "      const buttonEl =\n",
              "        document.querySelector('#df-4a954d1a-28c5-4fbf-9cd6-6828e96cd8a3 button.colab-df-convert');\n",
              "      buttonEl.style.display =\n",
              "        google.colab.kernel.accessAllowed ? 'block' : 'none';\n",
              "\n",
              "      async function convertToInteractive(key) {\n",
              "        const element = document.querySelector('#df-4a954d1a-28c5-4fbf-9cd6-6828e96cd8a3');\n",
              "        const dataTable =\n",
              "          await google.colab.kernel.invokeFunction('convertToInteractive',\n",
              "                                                    [key], {});\n",
              "        if (!dataTable) return;\n",
              "\n",
              "        const docLinkHtml = 'Like what you see? Visit the ' +\n",
              "          '<a target=\"_blank\" href=https://colab.research.google.com/notebooks/data_table.ipynb>data table notebook</a>'\n",
              "          + ' to learn more about interactive tables.';\n",
              "        element.innerHTML = '';\n",
              "        dataTable['output_type'] = 'display_data';\n",
              "        await google.colab.output.renderOutput(dataTable, element);\n",
              "        const docLink = document.createElement('div');\n",
              "        docLink.innerHTML = docLinkHtml;\n",
              "        element.appendChild(docLink);\n",
              "      }\n",
              "    </script>\n",
              "  </div>\n",
              "\n",
              "\n",
              "    <div id=\"df-e3d79a1a-0779-40e8-84f9-9cfa33024d02\">\n",
              "      <button class=\"colab-df-quickchart\" onclick=\"quickchart('df-e3d79a1a-0779-40e8-84f9-9cfa33024d02')\"\n",
              "                title=\"Suggest charts\"\n",
              "                style=\"display:none;\">\n",
              "\n",
              "<svg xmlns=\"http://www.w3.org/2000/svg\" height=\"24px\"viewBox=\"0 0 24 24\"\n",
              "     width=\"24px\">\n",
              "    <g>\n",
              "        <path d=\"M19 3H5c-1.1 0-2 .9-2 2v14c0 1.1.9 2 2 2h14c1.1 0 2-.9 2-2V5c0-1.1-.9-2-2-2zM9 17H7v-7h2v7zm4 0h-2V7h2v10zm4 0h-2v-4h2v4z\"/>\n",
              "    </g>\n",
              "</svg>\n",
              "      </button>\n",
              "\n",
              "<style>\n",
              "  .colab-df-quickchart {\n",
              "      --bg-color: #E8F0FE;\n",
              "      --fill-color: #1967D2;\n",
              "      --hover-bg-color: #E2EBFA;\n",
              "      --hover-fill-color: #174EA6;\n",
              "      --disabled-fill-color: #AAA;\n",
              "      --disabled-bg-color: #DDD;\n",
              "  }\n",
              "\n",
              "  [theme=dark] .colab-df-quickchart {\n",
              "      --bg-color: #3B4455;\n",
              "      --fill-color: #D2E3FC;\n",
              "      --hover-bg-color: #434B5C;\n",
              "      --hover-fill-color: #FFFFFF;\n",
              "      --disabled-bg-color: #3B4455;\n",
              "      --disabled-fill-color: #666;\n",
              "  }\n",
              "\n",
              "  .colab-df-quickchart {\n",
              "    background-color: var(--bg-color);\n",
              "    border: none;\n",
              "    border-radius: 50%;\n",
              "    cursor: pointer;\n",
              "    display: none;\n",
              "    fill: var(--fill-color);\n",
              "    height: 32px;\n",
              "    padding: 0;\n",
              "    width: 32px;\n",
              "  }\n",
              "\n",
              "  .colab-df-quickchart:hover {\n",
              "    background-color: var(--hover-bg-color);\n",
              "    box-shadow: 0 1px 2px rgba(60, 64, 67, 0.3), 0 1px 3px 1px rgba(60, 64, 67, 0.15);\n",
              "    fill: var(--button-hover-fill-color);\n",
              "  }\n",
              "\n",
              "  .colab-df-quickchart-complete:disabled,\n",
              "  .colab-df-quickchart-complete:disabled:hover {\n",
              "    background-color: var(--disabled-bg-color);\n",
              "    fill: var(--disabled-fill-color);\n",
              "    box-shadow: none;\n",
              "  }\n",
              "\n",
              "  .colab-df-spinner {\n",
              "    border: 2px solid var(--fill-color);\n",
              "    border-color: transparent;\n",
              "    border-bottom-color: var(--fill-color);\n",
              "    animation:\n",
              "      spin 1s steps(1) infinite;\n",
              "  }\n",
              "\n",
              "  @keyframes spin {\n",
              "    0% {\n",
              "      border-color: transparent;\n",
              "      border-bottom-color: var(--fill-color);\n",
              "      border-left-color: var(--fill-color);\n",
              "    }\n",
              "    20% {\n",
              "      border-color: transparent;\n",
              "      border-left-color: var(--fill-color);\n",
              "      border-top-color: var(--fill-color);\n",
              "    }\n",
              "    30% {\n",
              "      border-color: transparent;\n",
              "      border-left-color: var(--fill-color);\n",
              "      border-top-color: var(--fill-color);\n",
              "      border-right-color: var(--fill-color);\n",
              "    }\n",
              "    40% {\n",
              "      border-color: transparent;\n",
              "      border-right-color: var(--fill-color);\n",
              "      border-top-color: var(--fill-color);\n",
              "    }\n",
              "    60% {\n",
              "      border-color: transparent;\n",
              "      border-right-color: var(--fill-color);\n",
              "    }\n",
              "    80% {\n",
              "      border-color: transparent;\n",
              "      border-right-color: var(--fill-color);\n",
              "      border-bottom-color: var(--fill-color);\n",
              "    }\n",
              "    90% {\n",
              "      border-color: transparent;\n",
              "      border-bottom-color: var(--fill-color);\n",
              "    }\n",
              "  }\n",
              "</style>\n",
              "\n",
              "      <script>\n",
              "        async function quickchart(key) {\n",
              "          const quickchartButtonEl =\n",
              "            document.querySelector('#' + key + ' button');\n",
              "          quickchartButtonEl.disabled = true;  // To prevent multiple clicks.\n",
              "          quickchartButtonEl.classList.add('colab-df-spinner');\n",
              "          try {\n",
              "            const charts = await google.colab.kernel.invokeFunction(\n",
              "                'suggestCharts', [key], {});\n",
              "          } catch (error) {\n",
              "            console.error('Error during call to suggestCharts:', error);\n",
              "          }\n",
              "          quickchartButtonEl.classList.remove('colab-df-spinner');\n",
              "          quickchartButtonEl.classList.add('colab-df-quickchart-complete');\n",
              "        }\n",
              "        (() => {\n",
              "          let quickchartButtonEl =\n",
              "            document.querySelector('#df-e3d79a1a-0779-40e8-84f9-9cfa33024d02 button');\n",
              "          quickchartButtonEl.style.display =\n",
              "            google.colab.kernel.accessAllowed ? 'block' : 'none';\n",
              "        })();\n",
              "      </script>\n",
              "    </div>\n",
              "\n",
              "    </div>\n",
              "  </div>\n"
            ],
            "application/vnd.google.colaboratory.intrinsic+json": {
              "type": "dataframe",
              "variable_name": "patient_df",
              "summary": "{\n  \"name\": \"patient_df\",\n  \"rows\": 103,\n  \"fields\": [\n    {\n      \"column\": \"PatientID\",\n      \"properties\": {\n        \"dtype\": \"string\",\n        \"num_unique_values\": 103,\n        \"samples\": [\n          \"32\",\n          \"70\",\n          \"65\"\n        ],\n        \"semantic_type\": \"\",\n        \"description\": \"\"\n      }\n    },\n    {\n      \"column\": \"ADHD\",\n      \"properties\": {\n        \"dtype\": \"number\",\n        \"std\": 0,\n        \"min\": 0,\n        \"max\": 1,\n        \"num_unique_values\": 2,\n        \"samples\": [\n          0,\n          1\n        ],\n        \"semantic_type\": \"\",\n        \"description\": \"\"\n      }\n    }\n  ]\n}"
            }
          },
          "metadata": {},
          "execution_count": 8
        }
      ]
    },
    {
      "cell_type": "code",
      "source": [
        "import pandas as pd\n",
        "\n",
        "\n",
        "activity_summary_df = pd.read_csv(cpt_folder, delimiter=';')\n",
        "\n",
        "\n",
        "activity_summary_df.rename(columns={'ID': 'PatientID'}, inplace=True)\n",
        "# Convert 'PatientID' to string in both DataFrames\n",
        "activity_summary_df['PatientID'] = activity_summary_df['PatientID'].astype(str)\n",
        "patient_df['PatientID'] = patient_df['PatientID'].astype(str)\n",
        "\n",
        "# merge\n",
        "final_df = pd.merge(activity_summary_df, patient_df, on='PatientID', how='inner')\n",
        "\n",
        "if final_df.empty:\n",
        "    print(\"Warning: Merged DataFrame is empty. No matching PatientIDs found.\")\n",
        "else:\n",
        "    print(f\"Merged DataFrame contains {len(final_df)} rows.\")\n",
        "\n",
        "print(final_df.head())"
      ],
      "metadata": {
        "colab": {
          "base_uri": "https://localhost:8080/"
        },
        "id": "WzHEgagdj2Ea",
        "outputId": "bdfee74e-43c9-407a-86f0-bffc09486a5e"
      },
      "execution_count": null,
      "outputs": [
        {
          "output_type": "stream",
          "name": "stdout",
          "text": [
            "Merged DataFrame contains 99 rows.\n",
            "  PatientID  Assessment Status  Assessment Duration  Type  LastTrial  Trial1  \\\n",
            "0         2                  3               839999     6        360      11   \n",
            "1         3                  3               839999     6        360      12   \n",
            "2         4                  3               839999     6        360      14   \n",
            "3         5                  3               839999     6        360      12   \n",
            "4         7                  3               839998     6        360      11   \n",
            "\n",
            "   Response1  Trial2  Response2  Trial3  ...  Percent HitRTIsi  \\\n",
            "0         -1      13        469       7  ...                 0   \n",
            "1         -1       0        371       2  ...                 0   \n",
            "2         -1      10         -1       3  ...                 0   \n",
            "3        459       7        289      12  ...                 0   \n",
            "4        841       7         -1       5  ...                 0   \n",
            "\n",
            "   General TScore HitSEIsi  Adhd TScore HitSEIsi  Neuro TScore HitSEIsi  \\\n",
            "0                48.021103             47.772537              43.224297   \n",
            "1                42.234097             38.263283              41.574574   \n",
            "2                45.680782             42.289310              43.868061   \n",
            "3                85.698700             70.469986              80.228539   \n",
            "4                42.058998             43.349667              39.992119   \n",
            "\n",
            "   Raw Score HitSEIsi  Percent HitSEIsi  Adhd Confidence Index  \\\n",
            "0           -0.021096                 0              61.145496   \n",
            "1           -0.077351                 0              86.871597   \n",
            "2           -0.046142                 0              99.900002   \n",
            "3            0.410634                 0              99.900002   \n",
            "4           -0.071200                 0              32.291084   \n",
            "\n",
            "   Neuro Confidence Index  Old Overall Index  ADHD  \n",
            "0               58.749630          10.070000     1  \n",
            "1               61.088688           4.440000     1  \n",
            "2               86.131813          18.340000     1  \n",
            "3               99.900002           8.950001     1  \n",
            "4               24.225414           0.000000     0  \n",
            "\n",
            "[5 rows x 787 columns]\n"
          ]
        }
      ]
    },
    {
      "cell_type": "code",
      "source": [
        "#Split the Data\n",
        "\n",
        "from sklearn.model_selection import train_test_split\n",
        "\n",
        "# x & y targets\n",
        "X = final_df.drop(columns=['PatientID', 'ADHD'])\n",
        "y = final_df['ADHD']  # ADHD is the target variable\n",
        "\n",
        "# Split the data into 80% training and 20% testing\n",
        "X_train, X_test, y_train, y_test = train_test_split(X, y, test_size=0.2, random_state=42)\n",
        "\n",
        "print(f\"Training set size: {X_train.shape[0]} samples\")\n",
        "print(f\"Test set size: {X_test.shape[0]} samples\")\n"
      ],
      "metadata": {
        "id": "0QZ85S1fhvYC",
        "colab": {
          "base_uri": "https://localhost:8080/"
        },
        "outputId": "9b00e7ba-5271-419c-aab8-c413b9eb6cb1"
      },
      "execution_count": null,
      "outputs": [
        {
          "output_type": "stream",
          "name": "stdout",
          "text": [
            "Training set size: 79 samples\n",
            "Test set size: 20 samples\n"
          ]
        }
      ]
    },
    {
      "cell_type": "code",
      "source": [
        "from sklearn.preprocessing import StandardScaler\n",
        "\n",
        "scaler = StandardScaler()\n",
        "X_train = scaler.fit_transform(X_train)\n",
        "X_test = scaler.transform(X_test)\n"
      ],
      "metadata": {
        "id": "F7tyv4i7koIN"
      },
      "execution_count": null,
      "outputs": []
    },
    {
      "cell_type": "code",
      "source": [
        "from sklearn.linear_model import LogisticRegression\n",
        "from sklearn.metrics import accuracy_score, classification_report\n",
        "\n",
        "clf = LogisticRegression()\n",
        "clf.fit(X_train, y_train)\n",
        "y_pred = clf.predict(X_test)\n",
        "\n",
        "print(\"Accuracy:\", accuracy_score(y_test, y_pred))\n",
        "print(classification_report(y_test, y_pred))\n"
      ],
      "metadata": {
        "colab": {
          "base_uri": "https://localhost:8080/"
        },
        "id": "uLbOkGWtktUg",
        "outputId": "07af3683-0a55-47a4-a0a1-eff1471f5d92"
      },
      "execution_count": null,
      "outputs": [
        {
          "output_type": "stream",
          "name": "stdout",
          "text": [
            "Accuracy: 0.55\n",
            "              precision    recall  f1-score   support\n",
            "\n",
            "           0       0.71      0.42      0.53        12\n",
            "           1       0.46      0.75      0.57         8\n",
            "\n",
            "    accuracy                           0.55        20\n",
            "   macro avg       0.59      0.58      0.55        20\n",
            "weighted avg       0.61      0.55      0.54        20\n",
            "\n"
          ]
        }
      ]
    },
    {
      "cell_type": "code",
      "source": [
        "from sklearn.metrics import confusion_matrix, ConfusionMatrixDisplay\n",
        "\n",
        "cm = confusion_matrix(y_test, y_pred)\n",
        "disp = ConfusionMatrixDisplay(confusion_matrix=cm)\n",
        "disp.plot()\n"
      ],
      "metadata": {
        "colab": {
          "base_uri": "https://localhost:8080/",
          "height": 472
        },
        "id": "AOfGk-GCk4aa",
        "outputId": "78d23c5f-74d3-4a82-d1a4-06754db18876"
      },
      "execution_count": null,
      "outputs": [
        {
          "output_type": "execute_result",
          "data": {
            "text/plain": [
              "<sklearn.metrics._plot.confusion_matrix.ConfusionMatrixDisplay at 0x7941247f0e50>"
            ]
          },
          "metadata": {},
          "execution_count": 18
        },
        {
          "output_type": "display_data",
          "data": {
            "text/plain": [
              "<Figure size 640x480 with 2 Axes>"
            ],
            "image/png": "[encoded data removed]"
          },
          "metadata": {}
        }
      ]
    },
    {
      "cell_type": "code",
      "source": [
        "#Model Training (DNN)\n",
        "import tensorflow as tf\n",
        "from tensorflow.keras.models import Sequential\n",
        "from tensorflow.keras.layers import Dense\n",
        "from tensorflow.keras.optimizers import Adam\n",
        "\n",
        "# Define the DNN Model Architecture\n",
        "model = Sequential()\n",
        "\n",
        "model.add(Dense(64, input_dim=X_train.shape[1], activation='relu'))\n",
        "\n",
        "model.add(Dense(32, activation='relu'))\n",
        "\n",
        "model.add(Dense(1, activation='sigmoid'))\n",
        "\n",
        "model.compile(optimizer=Adam(learning_rate=0.001),\n",
        "              loss='binary_crossentropy',\n",
        "              metrics=['accuracy'])\n",
        "# Train the Model\n",
        "history = model.fit(X_train, y_train,\n",
        "                    epochs=20,\n",
        "                    batch_size=32,\n",
        "                    validation_data=(X_test, y_test),\n",
        "                    verbose=1)\n",
        "# Model Evaluation\n",
        "test_loss, test_accuracy = model.evaluate(X_test, y_test)\n",
        "print(f\"Test Loss: {test_loss}\")\n",
        "print(f\"Test Accuracy: {test_accuracy}\")\n"
      ],
      "metadata": {
        "colab": {
          "base_uri": "https://localhost:8080/"
        },
        "id": "uNozSzgMk7O9",
        "outputId": "1b211209-274a-4b4e-f0f5-533ec098155e"
      },
      "execution_count": null,
      "outputs": [
        {
          "output_type": "stream",
          "name": "stdout",
          "text": [
            "Epoch 1/20\n"
          ]
        },
        {
          "output_type": "stream",
          "name": "stderr",
          "text": [
            "/usr/local/lib/python3.11/dist-packages/keras/src/layers/core/dense.py:87: UserWarning: Do not pass an `input_shape`/`input_dim` argument to a layer. When using Sequential models, prefer using an `Input(shape)` object as the first layer in the model instead.\n",
            "  super().__init__(activity_regularizer=activity_regularizer, **kwargs)\n"
          ]
        },
        {
          "output_type": "stream",
          "name": "stdout",
          "text": [
            "\u001b[1m3/3\u001b[0m \u001b[32m━━━━━━━━━━━━━━━━━━━━\u001b[0m\u001b[37m\u001b[0m \u001b[1m3s\u001b[0m 365ms/step - accuracy: 0.4788 - loss: 0.9399 - val_accuracy: 0.4000 - val_loss: 0.8962\n",
            "Epoch 2/20\n",
            "\u001b[1m3/3\u001b[0m \u001b[32m━━━━━━━━━━━━━━━━━━━━\u001b[0m\u001b[37m\u001b[0m \u001b[1m0s\u001b[0m 101ms/step - accuracy: 0.8215 - loss: 0.5089 - val_accuracy: 0.4000 - val_loss: 0.7777\n",
            "Epoch 3/20\n",
            "\u001b[1m3/3\u001b[0m \u001b[32m━━━━━━━━━━━━━━━━━━━━\u001b[0m\u001b[37m\u001b[0m \u001b[1m0s\u001b[0m 40ms/step - accuracy: 0.9537 - loss: 0.3134 - val_accuracy: 0.5000 - val_loss: 0.7258\n",
            "Epoch 4/20\n",
            "\u001b[1m3/3\u001b[0m \u001b[32m━━━━━━━━━━━━━━━━━━━━\u001b[0m\u001b[37m\u001b[0m \u001b[1m0s\u001b[0m 39ms/step - accuracy: 1.0000 - loss: 0.2242 - val_accuracy: 0.5000 - val_loss: 0.7068\n",
            "Epoch 5/20\n",
            "\u001b[1m3/3\u001b[0m \u001b[32m━━━━━━━━━━━━━━━━━━━━\u001b[0m\u001b[37m\u001b[0m \u001b[1m0s\u001b[0m 39ms/step - accuracy: 1.0000 - loss: 0.1597 - val_accuracy: 0.6000 - val_loss: 0.6973\n",
            "Epoch 6/20\n",
            "\u001b[1m3/3\u001b[0m \u001b[32m━━━━━━━━━━━━━━━━━━━━\u001b[0m\u001b[37m\u001b[0m \u001b[1m0s\u001b[0m 38ms/step - accuracy: 1.0000 - loss: 0.1127 - val_accuracy: 0.6000 - val_loss: 0.6913\n",
            "Epoch 7/20\n",
            "\u001b[1m3/3\u001b[0m \u001b[32m━━━━━━━━━━━━━━━━━━━━\u001b[0m\u001b[37m\u001b[0m \u001b[1m0s\u001b[0m 41ms/step - accuracy: 1.0000 - loss: 0.0866 - val_accuracy: 0.6500 - val_loss: 0.6901\n",
            "Epoch 8/20\n",
            "\u001b[1m3/3\u001b[0m \u001b[32m━━━━━━━━━━━━━━━━━━━━\u001b[0m\u001b[37m\u001b[0m \u001b[1m0s\u001b[0m 39ms/step - accuracy: 1.0000 - loss: 0.0745 - val_accuracy: 0.6500 - val_loss: 0.6888\n",
            "Epoch 9/20\n",
            "\u001b[1m3/3\u001b[0m \u001b[32m━━━━━━━━━━━━━━━━━━━━\u001b[0m\u001b[37m\u001b[0m \u001b[1m0s\u001b[0m 41ms/step - accuracy: 1.0000 - loss: 0.0592 - val_accuracy: 0.6500 - val_loss: 0.6873\n",
            "Epoch 10/20\n",
            "\u001b[1m3/3\u001b[0m \u001b[32m━━━━━━━━━━━━━━━━━━━━\u001b[0m\u001b[37m\u001b[0m \u001b[1m0s\u001b[0m 60ms/step - accuracy: 1.0000 - loss: 0.0473 - val_accuracy: 0.6500 - val_loss: 0.6868\n",
            "Epoch 11/20\n",
            "\u001b[1m3/3\u001b[0m \u001b[32m━━━━━━━━━━━━━━━━━━━━\u001b[0m\u001b[37m\u001b[0m \u001b[1m0s\u001b[0m 59ms/step - accuracy: 1.0000 - loss: 0.0396 - val_accuracy: 0.6500 - val_loss: 0.6861\n",
            "Epoch 12/20\n",
            "\u001b[1m3/3\u001b[0m \u001b[32m━━━━━━━━━━━━━━━━━━━━\u001b[0m\u001b[37m\u001b[0m \u001b[1m0s\u001b[0m 41ms/step - accuracy: 1.0000 - loss: 0.0315 - val_accuracy: 0.7000 - val_loss: 0.6842\n",
            "Epoch 13/20\n",
            "\u001b[1m3/3\u001b[0m \u001b[32m━━━━━━━━━━━━━━━━━━━━\u001b[0m\u001b[37m\u001b[0m \u001b[1m0s\u001b[0m 59ms/step - accuracy: 1.0000 - loss: 0.0284 - val_accuracy: 0.7000 - val_loss: 0.6828\n",
            "Epoch 14/20\n",
            "\u001b[1m3/3\u001b[0m \u001b[32m━━━━━━━━━━━━━━━━━━━━\u001b[0m\u001b[37m\u001b[0m \u001b[1m0s\u001b[0m 59ms/step - accuracy: 1.0000 - loss: 0.0221 - val_accuracy: 0.7000 - val_loss: 0.6813\n",
            "Epoch 15/20\n",
            "\u001b[1m3/3\u001b[0m \u001b[32m━━━━━━━━━━━━━━━━━━━━\u001b[0m\u001b[37m\u001b[0m \u001b[1m0s\u001b[0m 39ms/step - accuracy: 1.0000 - loss: 0.0206 - val_accuracy: 0.7000 - val_loss: 0.6801\n",
            "Epoch 16/20\n",
            "\u001b[1m3/3\u001b[0m \u001b[32m━━━━━━━━━━━━━━━━━━━━\u001b[0m\u001b[37m\u001b[0m \u001b[1m0s\u001b[0m 46ms/step - accuracy: 1.0000 - loss: 0.0158 - val_accuracy: 0.7000 - val_loss: 0.6788\n",
            "Epoch 17/20\n",
            "\u001b[1m3/3\u001b[0m \u001b[32m━━━━━━━━━━━━━━━━━━━━\u001b[0m\u001b[37m\u001b[0m \u001b[1m0s\u001b[0m 39ms/step - accuracy: 1.0000 - loss: 0.0154 - val_accuracy: 0.6500 - val_loss: 0.6771\n",
            "Epoch 18/20\n",
            "\u001b[1m3/3\u001b[0m \u001b[32m━━━━━━━━━━━━━━━━━━━━\u001b[0m\u001b[37m\u001b[0m \u001b[1m0s\u001b[0m 41ms/step - accuracy: 1.0000 - loss: 0.0132 - val_accuracy: 0.6500 - val_loss: 0.6753\n",
            "Epoch 19/20\n",
            "\u001b[1m3/3\u001b[0m \u001b[32m━━━━━━━━━━━━━━━━━━━━\u001b[0m\u001b[37m\u001b[0m \u001b[1m0s\u001b[0m 38ms/step - accuracy: 1.0000 - loss: 0.0114 - val_accuracy: 0.6500 - val_loss: 0.6736\n",
            "Epoch 20/20\n",
            "\u001b[1m3/3\u001b[0m \u001b[32m━━━━━━━━━━━━━━━━━━━━\u001b[0m\u001b[37m\u001b[0m \u001b[1m0s\u001b[0m 38ms/step - accuracy: 1.0000 - loss: 0.0115 - val_accuracy: 0.6500 - val_loss: 0.6721\n",
            "\u001b[1m1/1\u001b[0m \u001b[32m━━━━━━━━━━━━━━━━━━━━\u001b[0m\u001b[37m\u001b[0m \u001b[1m0s\u001b[0m 48ms/step - accuracy: 0.6500 - loss: 0.6721\n",
            "Test Loss: 0.6720792055130005\n",
            "Test Accuracy: 0.6499999761581421\n"
          ]
        }
      ]
    },
    {
      "cell_type": "code",
      "source": [
        "# Make predictions on test data\n",
        "y_pred_prob = model.predict(X_test)\n",
        "\n",
        "# Convert predictions to percentages\n",
        "y_pred_percent = y_pred_prob * 100\n",
        "\n",
        "\n",
        "for i, percent in enumerate(y_pred_percent):\n",
        "    print(f\"Sample {i+1}: {percent[0]:.2f}% chance of having ADHD\")\n"
      ],
      "metadata": {
        "colab": {
          "base_uri": "https://localhost:8080/"
        },
        "id": "Mv617wF2lSxo",
        "outputId": "74a5bf5f-52c3-4fb4-a703-182f73dd4b26"
      },
      "execution_count": null,
      "outputs": [
        {
          "output_type": "stream",
          "name": "stdout",
          "text": [
            "\u001b[1m1/1\u001b[0m \u001b[32m━━━━━━━━━━━━━━━━━━━━\u001b[0m\u001b[37m\u001b[0m \u001b[1m0s\u001b[0m 78ms/step\n",
            "Sample 1: 67.26% chance of having ADHD\n",
            "Sample 2: 88.15% chance of having ADHD\n",
            "Sample 3: 73.33% chance of having ADHD\n",
            "Sample 4: 28.56% chance of having ADHD\n",
            "Sample 5: 94.85% chance of having ADHD\n",
            "Sample 6: 71.41% chance of having ADHD\n",
            "Sample 7: 46.44% chance of having ADHD\n",
            "Sample 8: 13.40% chance of having ADHD\n",
            "Sample 9: 80.71% chance of having ADHD\n",
            "Sample 10: 80.10% chance of having ADHD\n",
            "Sample 11: 12.95% chance of having ADHD\n",
            "Sample 12: 84.36% chance of having ADHD\n",
            "Sample 13: 66.40% chance of having ADHD\n",
            "Sample 14: 18.85% chance of having ADHD\n",
            "Sample 15: 28.92% chance of having ADHD\n",
            "Sample 16: 50.24% chance of having ADHD\n",
            "Sample 17: 45.66% chance of having ADHD\n",
            "Sample 18: 44.14% chance of having ADHD\n",
            "Sample 19: 40.37% chance of having ADHD\n",
            "Sample 20: 73.41% chance of having ADHD\n"
          ]
        }
      ]
    },
    {
      "cell_type": "code",
      "source": [
        "import numpy as np\n",
        "import pandas as pd\n",
        "\n",
        "def predict_from_user_input(model, scaler, feature_names, all_feature_names):\n",
        "    \"\"\"\n",
        "    Ask the user for input values for each feature, process them,\n",
        "    and predict ADHD probability using the trained model.\n",
        "\n",
        "    Parameters:\n",
        "    - model: Trained DNN model\n",
        "    - scaler: Scaler used during training\n",
        "    - feature_names: List of selected feature names used to train the model\n",
        "    - all_feature_names: List of all features expected by the model (in same order as training)\n",
        "    \"\"\"\n",
        "    print(\"Please enter the following values:\\n\")\n",
        "\n",
        "    # Get user input for selected features\n",
        "    user_data = []\n",
        "    for feature in feature_names:\n",
        "        while True:\n",
        "            try:\n",
        "                value = float(input(f\"{feature}: \"))\n",
        "                user_data.append(value)\n",
        "                break\n",
        "            except ValueError:\n",
        "                print(\"Please enter a valid number.\")\n",
        "\n",
        "    # Create a dictionary with the inputs\n",
        "    user_data_dict = {feature: value for feature, value in zip(feature_names, user_data)}\n",
        "\n",
        "    # Create a DataFrame with all features set to 0\n",
        "    input_df = pd.DataFrame(0, index=[0], columns=all_feature_names)\n",
        "\n",
        "    # Fill user input values\n",
        "    for feature in feature_names:\n",
        "        input_df.at[0, feature] = user_data_dict[feature]\n",
        "\n",
        "    # Scale the input\n",
        "    scaled_input = scaler.transform(input_df)\n",
        "\n",
        "    # Make prediction\n",
        "    prediction = model.predict(scaled_input)[0][0]\n",
        "\n",
        "    # Display result\n",
        "    print(f\"\\n🧠 ADHD Possibility: {prediction * 100:.2f}%\")\n",
        "    return prediction\n"
      ],
      "metadata": {
        "id": "0C7SCacTnQDV"
      },
      "execution_count": null,
      "outputs": []
    },
    {
      "cell_type": "code",
      "source": [
        "# Get feature names from the original DataFrame before scaling\n",
        "all_features = final_df.drop(columns=['PatientID', 'ADHD']).columns.tolist()\n",
        "\n",
        "# Now you can use all_features in your function\n",
        "predict_from_user_input(model, scaler, selected_features, all_features)"
      ],
      "metadata": {
        "colab": {
          "base_uri": "https://localhost:8080/"
        },
        "id": "JELrznskoAJg",
        "outputId": "301d158d-2012-4afe-8ebc-ad89835923ed"
      },
      "execution_count": null,
      "outputs": [
        {
          "output_type": "stream",
          "name": "stdout",
          "text": [
            "Please enter the following values:\n",
            "\n",
            "Assessment Duration: 450000\n",
            "LastTrial: 100\n",
            "Trial1: 5\n",
            "Response1: 100\n",
            "Adhd Confidence Index: 33\n",
            "Neuro Confidence Index: 29\n",
            "General TScore HitSEIsi: 55\n",
            "\u001b[1m1/1\u001b[0m \u001b[32m━━━━━━━━━━━━━━━━━━━━\u001b[0m\u001b[37m\u001b[0m \u001b[1m0s\u001b[0m 44ms/step\n",
            "\n",
            "🧠 ADHD Possibility: 0.00%\n"
          ]
        },
        {
          "output_type": "execute_result",
          "data": {
            "text/plain": [
              "np.float32(0.0)"
            ]
          },
          "metadata": {},
          "execution_count": 33
        }
      ]
    },
    {
      "cell_type": "code",
      "source": [],
      "metadata": {
        "id": "vBfbsdWBoxOB"
      },
      "execution_count": null,
      "outputs": []
    }
  ]
}