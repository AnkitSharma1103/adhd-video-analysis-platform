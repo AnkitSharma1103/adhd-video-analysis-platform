{
  "nbformat": 4,
  "nbformat_minor": 0,
  "metadata": {
    "colab": {
      "provenance": []
    },
    "kernelspec": {
      "name": "python3",
      "display_name": "Python 3"
    },
    "language_info": {
      "name": "python"
    }
  },
  "cells": [
    {
      "cell_type": "markdown",
      "source": [
        "Data Loading Activity Data"
      ],
      "metadata": {
        "id": "6Oua5zW-L60f"
      }
    },
    {
      "cell_type": "code",
      "source": [
        "from google.colab import drive\n",
        "drive.mount('/content/drive')\n"
      ],
      "metadata": {
        "colab": {
          "base_uri": "https://localhost:8080/"
        },
        "id": "7qxNxgqXOeE2",
        "outputId": "900b5adc-b958-4d24-e2c3-42917884d186"
      },
      "execution_count": null,
      "outputs": [
        {
          "output_type": "stream",
          "name": "stdout",
          "text": [
            "Drive already mounted at /content/drive; to attempt to forcibly remount, call drive.mount(\"/content/drive\", force_remount=True).\n"
          ]
        }
      ]
    },
    {
      "cell_type": "code",
      "source": [
        "zip_path = '/content/drive/MyDrive/adhd-datasets/adhd-diagnosis.zip'\n",
        "extract_path = '/content/drive/MyDrive/adhd-datasets/extracted_adhd'\n"
      ],
      "metadata": {
        "id": "4-baZf_s2fck"
      },
      "execution_count": null,
      "outputs": []
    },
    {
      "cell_type": "code",
      "source": [
        "import zipfile\n",
        "\n",
        "with zipfile.ZipFile(zip_path, 'r') as zip_ref:\n",
        "    zip_ref.extractall(extract_path)\n"
      ],
      "metadata": {
        "id": "ixrDCLU-3SGQ"
      },
      "execution_count": null,
      "outputs": []
    },
    {
      "cell_type": "code",
      "source": [
        "## set path to the data\n",
        "activity_folder = '/content/drive/MyDrive/adhd-datasets/extracted_adhd/hyperaktiv_with_controls/hyperaktiv_with_controls/activity_data'\n",
        "patient_info_path = '/content/drive/MyDrive/adhd-datasets/extracted_adhd/hyperaktiv_with_controls/hyperaktiv_with_controls/patient_info.csv'"
      ],
      "metadata": {
        "id": "y3vowMlz3WDt"
      },
      "execution_count": null,
      "outputs": []
    },
    {
      "cell_type": "code",
      "source": [
        "## reading the data\n",
        "with open(patient_info_path, 'r') as f:\n",
        "    for _ in range(5):\n",
        "        print(f.readline())\n"
      ],
      "metadata": {
        "colab": {
          "base_uri": "https://localhost:8080/"
        },
        "id": "wQNJqJCg4mKk",
        "outputId": "6b36c01f-a1f4-497f-931d-245a4aea2237"
      },
      "execution_count": null,
      "outputs": [
        {
          "output_type": "stream",
          "name": "stdout",
          "text": [
            "ID;SEX;AGE;ACC;ACC_TIME;ACC_DAYS;HRV;HRV_TIME;HRV_HOURS;CPT_II;ADHD;ADD;BIPOLAR;UNIPOLAR;ANXIETY;SUBSTANCE;OTHER;CT;MDQ_POS;WURS;ASRS;MADRS;HADS_A;HADS_D;MED;MED_Antidepr;MED_Moodstab;MED_Antipsych;MED_Anxiety_Benzo;MED_Sleep;MED_Analgesics_Opioids;MED_Stimulants;filter_$\n",
            "\n",
            "1;0;3;1;16:00:00;6;1;11:00:00;21;0;1;0;1;0;1;0;1;1;1;54;53;26;12;2;1;1;;;;;;;1\n",
            "\n",
            "2;0;4;1;10:54:00;6.8;0;;;1;1;0;0;1;0;0;1;1;1;83;62;11;2;7;0;;;;;;;;1\n",
            "\n",
            "3;1;2;1;15:28:00;7.2;1;15:25:00;21;1;1;0;1;0;0;1;0;0;0;72;60;6;8;0;0;;;;;;;;1\n",
            "\n",
            "4;1;3;0;;;1;16:55:00;22;1;1;0;1;0;1;1;0;0;9;82;46;19;12;6;1;1;;;1;;1;;0\n",
            "\n"
          ]
        }
      ]
    },
    {
      "cell_type": "code",
      "source": [
        "import pandas as pd\n",
        "\n",
        "patient_df = pd.read_csv(patient_info_path, delimiter=';')\n",
        "\n",
        "# Convert 'ID' column to  PatientID in activity data files\n",
        "patient_df['ID'] = patient_df['ID'].astype(str)\n",
        "\n",
        "# Rename 'ID' column to 'PatientID'\n",
        "patient_df.rename(columns={'ID': 'PatientID'}, inplace=True)\n",
        "\n",
        "\n",
        "patient_df = patient_df[['PatientID', 'ADHD']]\n",
        "\n",
        "\n",
        "patient_df.head()\n"
      ],
      "metadata": {
        "colab": {
          "base_uri": "https://localhost:8080/",
          "height": 206
        },
        "id": "s3LnIz8M4JIv",
        "outputId": "958b6893-e140-47e8-a6dc-dcec9d12c7a5"
      },
      "execution_count": null,
      "outputs": [
        {
          "output_type": "execute_result",
          "data": {
            "text/plain": [
              "  PatientID  ADHD\n",
              "0         1     1\n",
              "1         2     1\n",
              "2         3     1\n",
              "3         4     1\n",
              "4         5     1"
            ],
            "text/html": [
              "\n",
              "  <div id=\"df-db623075-707c-4489-8b66-5cb7de9aa972\" class=\"colab-df-container\">\n",
              "    <div>\n",
              "<style scoped>\n",
              "    .dataframe tbody tr th:only-of-type {\n",
              "        vertical-align: middle;\n",
              "    }\n",
              "\n",
              "    .dataframe tbody tr th {\n",
              "        vertical-align: top;\n",
              "    }\n",
              "\n",
              "    .dataframe thead th {\n",
              "        text-align: right;\n",
              "    }\n",
              "</style>\n",
              "<table border=\"1\" class=\"dataframe\">\n",
              "  <thead>\n",
              "    <tr style=\"text-align: right;\">\n",
              "      <th></th>\n",
              "      <th>PatientID</th>\n",
              "      <th>ADHD</th>\n",
              "    </tr>\n",
              "  </thead>\n",
              "  <tbody>\n",
              "    <tr>\n",
              "      <th>0</th>\n",
              "      <td>1</td>\n",
              "      <td>1</td>\n",
              "    </tr>\n",
              "    <tr>\n",
              "      <th>1</th>\n",
              "      <td>2</td>\n",
              "      <td>1</td>\n",
              "    </tr>\n",
              "    <tr>\n",
              "      <th>2</th>\n",
              "      <td>3</td>\n",
              "      <td>1</td>\n",
              "    </tr>\n",
              "    <tr>\n",
              "      <th>3</th>\n",
              "      <td>4</td>\n",
              "      <td>1</td>\n",
              "    </tr>\n",
              "    <tr>\n",
              "      <th>4</th>\n",
              "      <td>5</td>\n",
              "      <td>1</td>\n",
              "    </tr>\n",
              "  </tbody>\n",
              "</table>\n",
              "</div>\n",
              "    <div class=\"colab-df-buttons\">\n",
              "\n",
              "  <div class=\"colab-df-container\">\n",
              "    <button class=\"colab-df-convert\" onclick=\"convertToInteractive('df-db623075-707c-4489-8b66-5cb7de9aa972')\"\n",
              "            title=\"Convert this dataframe to an interactive table.\"\n",
              "            style=\"display:none;\">\n",
              "\n",
              "  <svg xmlns=\"http://www.w3.org/2000/svg\" height=\"24px\" viewBox=\"0 -960 960 960\">\n",
              "    <path d=\"M120-120v-720h720v720H120Zm60-500h600v-160H180v160Zm220 220h160v-160H400v160Zm0 220h160v-160H400v160ZM180-400h160v-160H180v160Zm440 0h160v-160H620v160ZM180-180h160v-160H180v160Zm440 0h160v-160H620v160Z\"/>\n",
              "  </svg>\n",
              "    </button>\n",
              "\n",
              "  <style>\n",
              "    .colab-df-container {\n",
              "      display:flex;\n",
              "      gap: 12px;\n",
              "    }\n",
              "\n",
              "    .colab-df-convert {\n",
              "      background-color: #E8F0FE;\n",
              "      border: none;\n",
              "      border-radius: 50%;\n",
              "      cursor: pointer;\n",
              "      display: none;\n",
              "      fill: #1967D2;\n",
              "      height: 32px;\n",
              "      padding: 0 0 0 0;\n",
              "      width: 32px;\n",
              "    }\n",
              "\n",
              "    .colab-df-convert:hover {\n",
              "      background-color: #E2EBFA;\n",
              "      box-shadow: 0px 1px 2px rgba(60, 64, 67, 0.3), 0px 1px 3px 1px rgba(60, 64, 67, 0.15);\n",
              "      fill: #174EA6;\n",
              "    }\n",
              "\n",
              "    .colab-df-buttons div {\n",
              "      margin-bottom: 4px;\n",
              "    }\n",
              "\n",
              "    [theme=dark] .colab-df-convert {\n",
              "      background-color: #3B4455;\n",
              "      fill: #D2E3FC;\n",
              "    }\n",
              "\n",
              "    [theme=dark] .colab-df-convert:hover {\n",
              "      background-color: #434B5C;\n",
              "      box-shadow: 0px 1px 3px 1px rgba(0, 0, 0, 0.15);\n",
              "      filter: drop-shadow(0px 1px 2px rgba(0, 0, 0, 0.3));\n",
              "      fill: #FFFFFF;\n",
              "    }\n",
              "  </style>\n",
              "\n",
              "    <script>\n",
              "      const buttonEl =\n",
              "        document.querySelector('#df-db623075-707c-4489-8b66-5cb7de9aa972 button.colab-df-convert');\n",
              "      buttonEl.style.display =\n",
              "        google.colab.kernel.accessAllowed ? 'block' : 'none';\n",
              "\n",
              "      async function convertToInteractive(key) {\n",
              "        const element = document.querySelector('#df-db623075-707c-4489-8b66-5cb7de9aa972');\n",
              "        const dataTable =\n",
              "          await google.colab.kernel.invokeFunction('convertToInteractive',\n",
              "                                                    [key], {});\n",
              "        if (!dataTable) return;\n",
              "\n",
              "        const docLinkHtml = 'Like what you see? Visit the ' +\n",
              "          '<a target=\"_blank\" href=https://colab.research.google.com/notebooks/data_table.ipynb>data table notebook</a>'\n",
              "          + ' to learn more about interactive tables.';\n",
              "        element.innerHTML = '';\n",
              "        dataTable['output_type'] = 'display_data';\n",
              "        await google.colab.output.renderOutput(dataTable, element);\n",
              "        const docLink = document.createElement('div');\n",
              "        docLink.innerHTML = docLinkHtml;\n",
              "        element.appendChild(docLink);\n",
              "      }\n",
              "    </script>\n",
              "  </div>\n",
              "\n",
              "\n",
              "<div id=\"df-4230bd5d-dc3b-440e-a506-3e406be53e9d\">\n",
              "  <button class=\"colab-df-quickchart\" onclick=\"quickchart('df-4230bd5d-dc3b-440e-a506-3e406be53e9d')\"\n",
              "            title=\"Suggest charts\"\n",
              "            style=\"display:none;\">\n",
              "\n",
              "<svg xmlns=\"http://www.w3.org/2000/svg\" height=\"24px\"viewBox=\"0 0 24 24\"\n",
              "     width=\"24px\">\n",
              "    <g>\n",
              "        <path d=\"M19 3H5c-1.1 0-2 .9-2 2v14c0 1.1.9 2 2 2h14c1.1 0 2-.9 2-2V5c0-1.1-.9-2-2-2zM9 17H7v-7h2v7zm4 0h-2V7h2v10zm4 0h-2v-4h2v4z\"/>\n",
              "    </g>\n",
              "</svg>\n",
              "  </button>\n",
              "\n",
              "<style>\n",
              "  .colab-df-quickchart {\n",
              "      --bg-color: #E8F0FE;\n",
              "      --fill-color: #1967D2;\n",
              "      --hover-bg-color: #E2EBFA;\n",
              "      --hover-fill-color: #174EA6;\n",
              "      --disabled-fill-color: #AAA;\n",
              "      --disabled-bg-color: #DDD;\n",
              "  }\n",
              "\n",
              "  [theme=dark] .colab-df-quickchart {\n",
              "      --bg-color: #3B4455;\n",
              "      --fill-color: #D2E3FC;\n",
              "      --hover-bg-color: #434B5C;\n",
              "      --hover-fill-color: #FFFFFF;\n",
              "      --disabled-bg-color: #3B4455;\n",
              "      --disabled-fill-color: #666;\n",
              "  }\n",
              "\n",
              "  .colab-df-quickchart {\n",
              "    background-color: var(--bg-color);\n",
              "    border: none;\n",
              "    border-radius: 50%;\n",
              "    cursor: pointer;\n",
              "    display: none;\n",
              "    fill: var(--fill-color);\n",
              "    height: 32px;\n",
              "    padding: 0;\n",
              "    width: 32px;\n",
              "  }\n",
              "\n",
              "  .colab-df-quickchart:hover {\n",
              "    background-color: var(--hover-bg-color);\n",
              "    box-shadow: 0 1px 2px rgba(60, 64, 67, 0.3), 0 1px 3px 1px rgba(60, 64, 67, 0.15);\n",
              "    fill: var(--button-hover-fill-color);\n",
              "  }\n",
              "\n",
              "  .colab-df-quickchart-complete:disabled,\n",
              "  .colab-df-quickchart-complete:disabled:hover {\n",
              "    background-color: var(--disabled-bg-color);\n",
              "    fill: var(--disabled-fill-color);\n",
              "    box-shadow: none;\n",
              "  }\n",
              "\n",
              "  .colab-df-spinner {\n",
              "    border: 2px solid var(--fill-color);\n",
              "    border-color: transparent;\n",
              "    border-bottom-color: var(--fill-color);\n",
              "    animation:\n",
              "      spin 1s steps(1) infinite;\n",
              "  }\n",
              "\n",
              "  @keyframes spin {\n",
              "    0% {\n",
              "      border-color: transparent;\n",
              "      border-bottom-color: var(--fill-color);\n",
              "      border-left-color: var(--fill-color);\n",
              "    }\n",
              "    20% {\n",
              "      border-color: transparent;\n",
              "      border-left-color: var(--fill-color);\n",
              "      border-top-color: var(--fill-color);\n",
              "    }\n",
              "    30% {\n",
              "      border-color: transparent;\n",
              "      border-left-color: var(--fill-color);\n",
              "      border-top-color: var(--fill-color);\n",
              "      border-right-color: var(--fill-color);\n",
              "    }\n",
              "    40% {\n",
              "      border-color: transparent;\n",
              "      border-right-color: var(--fill-color);\n",
              "      border-top-color: var(--fill-color);\n",
              "    }\n",
              "    60% {\n",
              "      border-color: transparent;\n",
              "      border-right-color: var(--fill-color);\n",
              "    }\n",
              "    80% {\n",
              "      border-color: transparent;\n",
              "      border-right-color: var(--fill-color);\n",
              "      border-bottom-color: var(--fill-color);\n",
              "    }\n",
              "    90% {\n",
              "      border-color: transparent;\n",
              "      border-bottom-color: var(--fill-color);\n",
              "    }\n",
              "  }\n",
              "</style>\n",
              "\n",
              "  <script>\n",
              "    async function quickchart(key) {\n",
              "      const quickchartButtonEl =\n",
              "        document.querySelector('#' + key + ' button');\n",
              "      quickchartButtonEl.disabled = true;  // To prevent multiple clicks.\n",
              "      quickchartButtonEl.classList.add('colab-df-spinner');\n",
              "      try {\n",
              "        const charts = await google.colab.kernel.invokeFunction(\n",
              "            'suggestCharts', [key], {});\n",
              "      } catch (error) {\n",
              "        console.error('Error during call to suggestCharts:', error);\n",
              "      }\n",
              "      quickchartButtonEl.classList.remove('colab-df-spinner');\n",
              "      quickchartButtonEl.classList.add('colab-df-quickchart-complete');\n",
              "    }\n",
              "    (() => {\n",
              "      let quickchartButtonEl =\n",
              "        document.querySelector('#df-4230bd5d-dc3b-440e-a506-3e406be53e9d button');\n",
              "      quickchartButtonEl.style.display =\n",
              "        google.colab.kernel.accessAllowed ? 'block' : 'none';\n",
              "    })();\n",
              "  </script>\n",
              "</div>\n",
              "\n",
              "    </div>\n",
              "  </div>\n"
            ],
            "application/vnd.google.colaboratory.intrinsic+json": {
              "type": "dataframe",
              "variable_name": "patient_df",
              "summary": "{\n  \"name\": \"patient_df\",\n  \"rows\": 134,\n  \"fields\": [\n    {\n      \"column\": \"PatientID\",\n      \"properties\": {\n        \"dtype\": \"string\",\n        \"num_unique_values\": 134,\n        \"samples\": [\n          \"234\",\n          \"69\",\n          \"211\"\n        ],\n        \"semantic_type\": \"\",\n        \"description\": \"\"\n      }\n    },\n    {\n      \"column\": \"ADHD\",\n      \"properties\": {\n        \"dtype\": \"number\",\n        \"std\": 0,\n        \"min\": 0,\n        \"max\": 1,\n        \"num_unique_values\": 2,\n        \"samples\": [\n          0,\n          1\n        ],\n        \"semantic_type\": \"\",\n        \"description\": \"\"\n      }\n    }\n  ]\n}"
            }
          },
          "metadata": {},
          "execution_count": 9
        }
      ]
    },
    {
      "cell_type": "code",
      "source": [
        "## Reading all the dataframes into one csv files activity data\n",
        "import os\n",
        "import numpy as np\n",
        "import pandas as pd\n",
        "\n",
        "summary_data = []\n",
        "\n",
        "\n",
        "for filename in os.listdir(activity_folder):\n",
        "    if filename.endswith('.csv'):\n",
        "        patient_id = os.path.splitext(filename)[0]\n",
        "        file_path = os.path.join(activity_folder, filename)\n",
        "\n",
        "        try:\n",
        "            # Explicitly separator as ';'\n",
        "            df = pd.read_csv(file_path, delimiter=';')\n",
        "            #removing date and time\n",
        "            df = df.select_dtypes(include=[np.number])\n",
        "            if df.empty:\n",
        "                print(f\"Warning: {filename} contains no numeric columns after filtering.\")\n",
        "                continue\n",
        "            # statistics\n",
        "            stats = df.describe().loc[['mean', 'std', 'min', 'max']].stack().to_frame().T\n",
        "            stats.columns = [f\"{col[0]}_{col[1]}\" for col in stats.columns]\n",
        "            stats['PatientID'] = patient_id\n",
        "            summary_data.append(stats)\n",
        "        except Exception as e:\n",
        "            print(f\"Failed to process {filename}: {e}\")\n",
        "# Combine all patient\n",
        "if summary_data:\n",
        "    activity_summary_df = pd.concat(summary_data, ignore_index=True)\n",
        "else:\n",
        "    print(\"Error: No data found to create activity summary DataFrame.\")\n",
        "    activity_summary_df = pd.DataFrame()"
      ],
      "metadata": {
        "id": "3usOSTrb5FH0"
      },
      "execution_count": null,
      "outputs": []
    },
    {
      "cell_type": "code",
      "source": [
        "#  numeric\n",
        "activity_summary_df['PatientID'] = activity_summary_df['PatientID'].str.extract('(\\d+)')\n",
        "\n",
        "# Convert to string to match patient_df type\n",
        "activity_summary_df['PatientID'] = activity_summary_df['PatientID'].astype(str)\n",
        "\n",
        "print(\"Cleaned Patient IDs :\", activity_summary_df['PatientID'].unique())\n"
      ],
      "metadata": {
        "colab": {
          "base_uri": "https://localhost:8080/"
        },
        "id": "kTBXpYBn6x5W",
        "outputId": "213467c6-941a-4f7c-c3fc-a23048200d93"
      },
      "execution_count": null,
      "outputs": [
        {
          "output_type": "stream",
          "name": "stdout",
          "text": [
            "Cleaned Patient IDs in activity_summary_df: ['01' '02' '03' '05' '07' '08' '09' '10' '101' '104' '105' '108' '11' '13'\n",
            " '14' '15' '18' '19' '20' '21' '210' '211' '212' '213' '214' '215' '216'\n",
            " '217' '218' '219' '22' '220' '221' '222' '223' '224' '225' '226' '227'\n",
            " '228' '229' '23' '230' '231' '232' '233' '234' '235' '236' '237' '238'\n",
            " '239' '24' '240' '26' '27' '30' '31' '32' '33' '34' '35' '36' '37' '39'\n",
            " '41' '42' '43' '44' '45' '46' '47' '48' '49' '50' '51' '52' '53' '55'\n",
            " '56' '57' '58' '59' '60' '61' '63' '64' '65' '67' '68' '70' '71' '72'\n",
            " '73' '74' '75' '77' '78' '79' '81' '82' '83' '84' '85' '87' '88' '89'\n",
            " '90' '91' '92' '93' '94' '95' '96' '97' '98']\n"
          ]
        }
      ]
    },
    {
      "cell_type": "code",
      "source": [
        "# merge\n",
        "final_df = pd.merge(activity_summary_df, patient_df, on='PatientID', how='inner')\n",
        "\n",
        "if final_df.empty:\n",
        "    print(\"Warning: Merged DataFrame is empty. No matching PatientIDs found.\")\n",
        "else:\n",
        "    print(f\"Merged DataFrame contains {len(final_df)} rows.\")\n",
        "\n",
        "print(final_df.head())\n"
      ],
      "metadata": {
        "colab": {
          "base_uri": "https://localhost:8080/"
        },
        "id": "LsGQHDaS7Qun",
        "outputId": "823321e4-4599-4716-87a9-5648b8ca5dff"
      },
      "execution_count": null,
      "outputs": [
        {
          "output_type": "stream",
          "name": "stdout",
          "text": [
            "Merged DataFrame contains 109 rows.\n",
            "   mean_ACTIVITY  std_ACTIVITY  min_ACTIVITY  max_ACTIVITY PatientID  ADHD\n",
            "0      68.401202    112.654471           0.0        1726.0        10     0\n",
            "1     244.928216    387.405119           0.0        5249.0       101     0\n",
            "2     355.351822    438.648252           0.0        2845.0       104     0\n",
            "3     304.001188    508.259089           0.0        6128.0       105     0\n",
            "4     353.157053    457.802399           0.0        3637.0       108     1\n"
          ]
        }
      ]
    },
    {
      "cell_type": "code",
      "source": [
        "# Reorder\n",
        "columns = ['PatientID'] + [col for col in final_df.columns if col != 'PatientID']\n",
        "final_df = final_df[columns]\n",
        "\n",
        "print(final_df.head())\n"
      ],
      "metadata": {
        "colab": {
          "base_uri": "https://localhost:8080/"
        },
        "id": "d0S5ftsq72x5",
        "outputId": "c252356d-97f9-4719-9d1c-87f80518d5d6"
      },
      "execution_count": null,
      "outputs": [
        {
          "output_type": "stream",
          "name": "stdout",
          "text": [
            "  PatientID  mean_ACTIVITY  std_ACTIVITY  min_ACTIVITY  max_ACTIVITY  ADHD\n",
            "0        10      68.401202    112.654471           0.0        1726.0     0\n",
            "1       101     244.928216    387.405119           0.0        5249.0     0\n",
            "2       104     355.351822    438.648252           0.0        2845.0     0\n",
            "3       105     304.001188    508.259089           0.0        6128.0     0\n",
            "4       108     353.157053    457.802399           0.0        3637.0     1\n"
          ]
        }
      ]
    },
    {
      "cell_type": "code",
      "source": [
        "#Split the Data into Training and Testing Sets\n",
        "\n",
        "from sklearn.model_selection import train_test_split\n",
        "\n",
        "# x & y targets\n",
        "X = final_df.drop(columns=['PatientID', 'ADHD'])\n",
        "y = final_df['ADHD']  # ADHD is the target variable\n",
        "\n",
        "# Split the data into 80% training and 20% testing\n",
        "X_train, X_test, y_train, y_test = train_test_split(X, y, test_size=0.2, random_state=42)\n",
        "\n",
        "# Print the shape of the resulting datasets\n",
        "print(f\"Training set size: {X_train.shape[0]} samples\")\n",
        "print(f\"Test set size: {X_test.shape[0]} samples\")\n"
      ],
      "metadata": {
        "colab": {
          "base_uri": "https://localhost:8080/"
        },
        "id": "H_q3Tl_c8FRt",
        "outputId": "fb992010-26a2-45f5-eaed-e414fe4b244b"
      },
      "execution_count": null,
      "outputs": [
        {
          "output_type": "stream",
          "name": "stdout",
          "text": [
            "Training set size: 87 samples\n",
            "Test set size: 22 samples\n"
          ]
        }
      ]
    },
    {
      "cell_type": "code",
      "source": [
        "from sklearn.preprocessing import StandardScaler\n",
        "\n",
        "scaler = StandardScaler()\n",
        "X_train = scaler.fit_transform(X_train)\n",
        "X_test = scaler.transform(X_test)\n"
      ],
      "metadata": {
        "id": "ZWEQ6pvw91xv"
      },
      "execution_count": null,
      "outputs": []
    },
    {
      "cell_type": "code",
      "source": [
        "from sklearn.linear_model import LogisticRegression\n",
        "from sklearn.metrics import accuracy_score, classification_report\n",
        "\n",
        "clf = LogisticRegression()\n",
        "clf.fit(X_train, y_train)\n",
        "y_pred = clf.predict(X_test)\n",
        "\n",
        "print(\"Accuracy:\", accuracy_score(y_test, y_pred))\n",
        "print(classification_report(y_test, y_pred))\n"
      ],
      "metadata": {
        "colab": {
          "base_uri": "https://localhost:8080/"
        },
        "id": "HX2pzjph93FZ",
        "outputId": "94a4cc5c-0583-4a7f-8faa-a5f82faf6f7d"
      },
      "execution_count": null,
      "outputs": [
        {
          "output_type": "stream",
          "name": "stdout",
          "text": [
            "Accuracy: 0.5\n",
            "              precision    recall  f1-score   support\n",
            "\n",
            "           0       0.50      0.91      0.65        11\n",
            "           1       0.50      0.09      0.15        11\n",
            "\n",
            "    accuracy                           0.50        22\n",
            "   macro avg       0.50      0.50      0.40        22\n",
            "weighted avg       0.50      0.50      0.40        22\n",
            "\n"
          ]
        }
      ]
    },
    {
      "cell_type": "code",
      "source": [
        "from sklearn.metrics import confusion_matrix, ConfusionMatrixDisplay\n",
        "\n",
        "cm = confusion_matrix(y_test, y_pred)\n",
        "disp = ConfusionMatrixDisplay(confusion_matrix=cm)\n",
        "disp.plot()\n"
      ],
      "metadata": {
        "colab": {
          "base_uri": "https://localhost:8080/",
          "height": 472
        },
        "id": "DtrEhF8r99t7",
        "outputId": "633f8fd5-68cd-4987-b20d-b42cd09b088d"
      },
      "execution_count": null,
      "outputs": [
        {
          "output_type": "execute_result",
          "data": {
            "text/plain": [
              "<sklearn.metrics._plot.confusion_matrix.ConfusionMatrixDisplay at 0x7d86977ce610>"
            ]
          },
          "metadata": {},
          "execution_count": 27
        },
        {
          "output_type": "display_data",
          "data": {
            "text/plain": [
              "<Figure size 640x480 with 2 Axes>"
            ],
            "image/png": "[encoded data removed]"
          },
          "metadata": {}
        }
      ]
    },
    {
      "cell_type": "code",
      "source": [
        "#Model Training (DNN)\n",
        "import tensorflow as tf\n",
        "from tensorflow.keras.models import Sequential\n",
        "from tensorflow.keras.layers import Dense\n",
        "from tensorflow.keras.optimizers import Adam\n",
        "\n",
        "# Define the DNN Model Architecture\n",
        "model = Sequential()\n",
        "# Input layer with 64 units and ReLU activation\n",
        "model.add(Dense(64, input_dim=X_train.shape[1], activation='relu'))\n",
        "# Hidden layer with 32 units and ReLU activation\n",
        "model.add(Dense(32, activation='relu'))\n",
        "# Output layer with 1 unit and sigmoid activation\n",
        "model.add(Dense(1, activation='sigmoid'))\n",
        "# Compile the Model\n",
        "model.compile(optimizer=Adam(learning_rate=0.001),  #Adam optimizer with learning rate 0.001\n",
        "              loss='binary_crossentropy',\n",
        "              metrics=['accuracy'])  #Accuracy metric\n",
        "# Train the Model\n",
        "history = model.fit(X_train, y_train,\n",
        "                    epochs=20,\n",
        "                    batch_size=32,\n",
        "                    validation_data=(X_test, y_test),\n",
        "                    verbose=1)\n",
        "# Model Evaluation\n",
        "test_loss, test_accuracy = model.evaluate(X_test, y_test)\n",
        "print(f\"Test Loss: {test_loss}\")\n",
        "print(f\"Test Accuracy: {test_accuracy}\")\n"
      ],
      "metadata": {
        "colab": {
          "base_uri": "https://localhost:8080/"
        },
        "id": "AhTeB4_h8twp",
        "outputId": "dba36aeb-ac00-4aaa-d79a-ba94645a7170"
      },
      "execution_count": null,
      "outputs": [
        {
          "output_type": "stream",
          "name": "stdout",
          "text": [
            "Epoch 1/20\n"
          ]
        },
        {
          "output_type": "stream",
          "name": "stderr",
          "text": [
            "/usr/local/lib/python3.11/dist-packages/keras/src/layers/core/dense.py:87: UserWarning: Do not pass an `input_shape`/`input_dim` argument to a layer. When using Sequential models, prefer using an `Input(shape)` object as the first layer in the model instead.\n",
            "  super().__init__(activity_regularizer=activity_regularizer, **kwargs)\n"
          ]
        },
        {
          "output_type": "stream",
          "name": "stdout",
          "text": [
            "\u001b[1m3/3\u001b[0m \u001b[32m━━━━━━━━━━━━━━━━━━━━\u001b[0m\u001b[37m\u001b[0m \u001b[1m1s\u001b[0m 120ms/step - accuracy: 0.6615 - loss: 0.6685 - val_accuracy: 0.5455 - val_loss: 0.7098\n",
            "Epoch 2/20\n",
            "\u001b[1m3/3\u001b[0m \u001b[32m━━━━━━━━━━━━━━━━━━━━\u001b[0m\u001b[37m\u001b[0m \u001b[1m0s\u001b[0m 35ms/step - accuracy: 0.6672 - loss: 0.6535 - val_accuracy: 0.5000 - val_loss: 0.7145\n",
            "Epoch 3/20\n",
            "\u001b[1m3/3\u001b[0m \u001b[32m━━━━━━━━━━━━━━━━━━━━\u001b[0m\u001b[37m\u001b[0m \u001b[1m0s\u001b[0m 53ms/step - accuracy: 0.6479 - loss: 0.6381 - val_accuracy: 0.5000 - val_loss: 0.7204\n",
            "Epoch 4/20\n",
            "\u001b[1m3/3\u001b[0m \u001b[32m━━━━━━━━━━━━━━━━━━━━\u001b[0m\u001b[37m\u001b[0m \u001b[1m0s\u001b[0m 31ms/step - accuracy: 0.6615 - loss: 0.6300 - val_accuracy: 0.5000 - val_loss: 0.7290\n",
            "Epoch 5/20\n",
            "\u001b[1m3/3\u001b[0m \u001b[32m━━━━━━━━━━━━━━━━━━━━\u001b[0m\u001b[37m\u001b[0m \u001b[1m0s\u001b[0m 52ms/step - accuracy: 0.6615 - loss: 0.6261 - val_accuracy: 0.5000 - val_loss: 0.7381\n",
            "Epoch 6/20\n",
            "\u001b[1m3/3\u001b[0m \u001b[32m━━━━━━━━━━━━━━━━━━━━\u001b[0m\u001b[37m\u001b[0m \u001b[1m0s\u001b[0m 33ms/step - accuracy: 0.6732 - loss: 0.6053 - val_accuracy: 0.5000 - val_loss: 0.7483\n",
            "Epoch 7/20\n",
            "\u001b[1m3/3\u001b[0m \u001b[32m━━━━━━━━━━━━━━━━━━━━\u001b[0m\u001b[37m\u001b[0m \u001b[1m0s\u001b[0m 33ms/step - accuracy: 0.6458 - loss: 0.6125 - val_accuracy: 0.5000 - val_loss: 0.7579\n",
            "Epoch 8/20\n",
            "\u001b[1m3/3\u001b[0m \u001b[32m━━━━━━━━━━━━━━━━━━━━\u001b[0m\u001b[37m\u001b[0m \u001b[1m0s\u001b[0m 34ms/step - accuracy: 0.6888 - loss: 0.5992 - val_accuracy: 0.5000 - val_loss: 0.7681\n",
            "Epoch 9/20\n",
            "\u001b[1m3/3\u001b[0m \u001b[32m━━━━━━━━━━━━━━━━━━━━\u001b[0m\u001b[37m\u001b[0m \u001b[1m0s\u001b[0m 35ms/step - accuracy: 0.7122 - loss: 0.5779 - val_accuracy: 0.5000 - val_loss: 0.7763\n",
            "Epoch 10/20\n",
            "\u001b[1m3/3\u001b[0m \u001b[32m━━━━━━━━━━━━━━━━━━━━\u001b[0m\u001b[37m\u001b[0m \u001b[1m0s\u001b[0m 33ms/step - accuracy: 0.6224 - loss: 0.6426 - val_accuracy: 0.5000 - val_loss: 0.7812\n",
            "Epoch 11/20\n",
            "\u001b[1m3/3\u001b[0m \u001b[32m━━━━━━━━━━━━━━━━━━━━\u001b[0m\u001b[37m\u001b[0m \u001b[1m0s\u001b[0m 55ms/step - accuracy: 0.6771 - loss: 0.6119 - val_accuracy: 0.5000 - val_loss: 0.7868\n",
            "Epoch 12/20\n",
            "\u001b[1m3/3\u001b[0m \u001b[32m━━━━━━━━━━━━━━━━━━━━\u001b[0m\u001b[37m\u001b[0m \u001b[1m0s\u001b[0m 32ms/step - accuracy: 0.6693 - loss: 0.5996 - val_accuracy: 0.5000 - val_loss: 0.7920\n",
            "Epoch 13/20\n",
            "\u001b[1m3/3\u001b[0m \u001b[32m━━━━━━━━━━━━━━━━━━━━\u001b[0m\u001b[37m\u001b[0m \u001b[1m0s\u001b[0m 33ms/step - accuracy: 0.6458 - loss: 0.6065 - val_accuracy: 0.5000 - val_loss: 0.7959\n",
            "Epoch 14/20\n",
            "\u001b[1m3/3\u001b[0m \u001b[32m━━━━━━━━━━━━━━━━━━━━\u001b[0m\u001b[37m\u001b[0m \u001b[1m0s\u001b[0m 34ms/step - accuracy: 0.6341 - loss: 0.6153 - val_accuracy: 0.5000 - val_loss: 0.7994\n",
            "Epoch 15/20\n",
            "\u001b[1m3/3\u001b[0m \u001b[32m━━━━━━━━━━━━━━━━━━━━\u001b[0m\u001b[37m\u001b[0m \u001b[1m0s\u001b[0m 36ms/step - accuracy: 0.6654 - loss: 0.6074 - val_accuracy: 0.5000 - val_loss: 0.8029\n",
            "Epoch 16/20\n",
            "\u001b[1m3/3\u001b[0m \u001b[32m━━━━━━━━━━━━━━━━━━━━\u001b[0m\u001b[37m\u001b[0m \u001b[1m0s\u001b[0m 37ms/step - accuracy: 0.6654 - loss: 0.6004 - val_accuracy: 0.5000 - val_loss: 0.8069\n",
            "Epoch 17/20\n",
            "\u001b[1m3/3\u001b[0m \u001b[32m━━━━━━━━━━━━━━━━━━━━\u001b[0m\u001b[37m\u001b[0m \u001b[1m0s\u001b[0m 32ms/step - accuracy: 0.6576 - loss: 0.6014 - val_accuracy: 0.5000 - val_loss: 0.8104\n",
            "Epoch 18/20\n",
            "\u001b[1m3/3\u001b[0m \u001b[32m━━━━━━━━━━━━━━━━━━━━\u001b[0m\u001b[37m\u001b[0m \u001b[1m0s\u001b[0m 32ms/step - accuracy: 0.6771 - loss: 0.5783 - val_accuracy: 0.5000 - val_loss: 0.8140\n",
            "Epoch 19/20\n",
            "\u001b[1m3/3\u001b[0m \u001b[32m━━━━━━━━━━━━━━━━━━━━\u001b[0m\u001b[37m\u001b[0m \u001b[1m0s\u001b[0m 33ms/step - accuracy: 0.6888 - loss: 0.5656 - val_accuracy: 0.5000 - val_loss: 0.8167\n",
            "Epoch 20/20\n",
            "\u001b[1m3/3\u001b[0m \u001b[32m━━━━━━━━━━━━━━━━━━━━\u001b[0m\u001b[37m\u001b[0m \u001b[1m0s\u001b[0m 32ms/step - accuracy: 0.6810 - loss: 0.5878 - val_accuracy: 0.5000 - val_loss: 0.8176\n",
            "\u001b[1m1/1\u001b[0m \u001b[32m━━━━━━━━━━━━━━━━━━━━\u001b[0m\u001b[37m\u001b[0m \u001b[1m0s\u001b[0m 47ms/step - accuracy: 0.5000 - loss: 0.8176\n",
            "Test Loss: 0.8175891637802124\n",
            "Test Accuracy: 0.5\n"
          ]
        }
      ]
    },
    {
      "cell_type": "code",
      "source": [
        "model.fit(X_train, y_train, validation_data=(X_test, y_test), epochs=20)\n"
      ],
      "metadata": {
        "colab": {
          "base_uri": "https://localhost:8080/"
        },
        "id": "d6R_g0Gc9V6N",
        "outputId": "55777f74-f803-4ca9-c653-b7960c070e49"
      },
      "execution_count": null,
      "outputs": [
        {
          "output_type": "stream",
          "name": "stdout",
          "text": [
            "Epoch 1/20\n",
            "\u001b[1m3/3\u001b[0m \u001b[32m━━━━━━━━━━━━━━━━━━━━\u001b[0m\u001b[37m\u001b[0m \u001b[1m0s\u001b[0m 53ms/step - accuracy: 0.6458 - loss: 0.6065 - val_accuracy: 0.5000 - val_loss: 0.8180\n",
            "Epoch 2/20\n",
            "\u001b[1m3/3\u001b[0m \u001b[32m━━━━━━━━━━━━━━━━━━━━\u001b[0m\u001b[37m\u001b[0m \u001b[1m0s\u001b[0m 33ms/step - accuracy: 0.6302 - loss: 0.6248 - val_accuracy: 0.5000 - val_loss: 0.8187\n",
            "Epoch 3/20\n",
            "\u001b[1m3/3\u001b[0m \u001b[32m━━━━━━━━━━━━━━━━━━━━\u001b[0m\u001b[37m\u001b[0m \u001b[1m0s\u001b[0m 34ms/step - accuracy: 0.6576 - loss: 0.5916 - val_accuracy: 0.5000 - val_loss: 0.8205\n",
            "Epoch 4/20\n",
            "\u001b[1m3/3\u001b[0m \u001b[32m━━━━━━━━━━━━━━━━━━━━\u001b[0m\u001b[37m\u001b[0m \u001b[1m0s\u001b[0m 53ms/step - accuracy: 0.6615 - loss: 0.5831 - val_accuracy: 0.5000 - val_loss: 0.8230\n",
            "Epoch 5/20\n",
            "\u001b[1m3/3\u001b[0m \u001b[32m━━━━━━━━━━━━━━━━━━━━\u001b[0m\u001b[37m\u001b[0m \u001b[1m0s\u001b[0m 32ms/step - accuracy: 0.6576 - loss: 0.5947 - val_accuracy: 0.5000 - val_loss: 0.8239\n",
            "Epoch 6/20\n",
            "\u001b[1m3/3\u001b[0m \u001b[32m━━━━━━━━━━━━━━━━━━━━\u001b[0m\u001b[37m\u001b[0m \u001b[1m0s\u001b[0m 35ms/step - accuracy: 0.6732 - loss: 0.5750 - val_accuracy: 0.5000 - val_loss: 0.8267\n",
            "Epoch 7/20\n",
            "\u001b[1m3/3\u001b[0m \u001b[32m━━━━━━━━━━━━━━━━━━━━\u001b[0m\u001b[37m\u001b[0m \u001b[1m0s\u001b[0m 34ms/step - accuracy: 0.6576 - loss: 0.5875 - val_accuracy: 0.5000 - val_loss: 0.8273\n",
            "Epoch 8/20\n",
            "\u001b[1m3/3\u001b[0m \u001b[32m━━━━━━━━━━━━━━━━━━━━\u001b[0m\u001b[37m\u001b[0m \u001b[1m0s\u001b[0m 32ms/step - accuracy: 0.6362 - loss: 0.5837 - val_accuracy: 0.5000 - val_loss: 0.8291\n",
            "Epoch 9/20\n",
            "\u001b[1m3/3\u001b[0m \u001b[32m━━━━━━━━━━━━━━━━━━━━\u001b[0m\u001b[37m\u001b[0m \u001b[1m0s\u001b[0m 35ms/step - accuracy: 0.6693 - loss: 0.5968 - val_accuracy: 0.5000 - val_loss: 0.8311\n",
            "Epoch 10/20\n",
            "\u001b[1m3/3\u001b[0m \u001b[32m━━━━━━━━━━━━━━━━━━━━\u001b[0m\u001b[37m\u001b[0m \u001b[1m0s\u001b[0m 33ms/step - accuracy: 0.6927 - loss: 0.5579 - val_accuracy: 0.5000 - val_loss: 0.8348\n",
            "Epoch 11/20\n",
            "\u001b[1m3/3\u001b[0m \u001b[32m━━━━━━━━━━━━━━━━━━━━\u001b[0m\u001b[37m\u001b[0m \u001b[1m0s\u001b[0m 36ms/step - accuracy: 0.6849 - loss: 0.5552 - val_accuracy: 0.5000 - val_loss: 0.8362\n",
            "Epoch 12/20\n",
            "\u001b[1m3/3\u001b[0m \u001b[32m━━━━━━━━━━━━━━━━━━━━\u001b[0m\u001b[37m\u001b[0m \u001b[1m0s\u001b[0m 33ms/step - accuracy: 0.6576 - loss: 0.5789 - val_accuracy: 0.5000 - val_loss: 0.8360\n",
            "Epoch 13/20\n",
            "\u001b[1m3/3\u001b[0m \u001b[32m━━━━━━━━━━━━━━━━━━━━\u001b[0m\u001b[37m\u001b[0m \u001b[1m0s\u001b[0m 34ms/step - accuracy: 0.6828 - loss: 0.5663 - val_accuracy: 0.5000 - val_loss: 0.8370\n",
            "Epoch 14/20\n",
            "\u001b[1m3/3\u001b[0m \u001b[32m━━━━━━━━━━━━━━━━━━━━\u001b[0m\u001b[37m\u001b[0m \u001b[1m0s\u001b[0m 31ms/step - accuracy: 0.6341 - loss: 0.5834 - val_accuracy: 0.5455 - val_loss: 0.8362\n",
            "Epoch 15/20\n",
            "\u001b[1m3/3\u001b[0m \u001b[32m━━━━━━━━━━━━━━━━━━━━\u001b[0m\u001b[37m\u001b[0m \u001b[1m0s\u001b[0m 34ms/step - accuracy: 0.6771 - loss: 0.5846 - val_accuracy: 0.5455 - val_loss: 0.8363\n",
            "Epoch 16/20\n",
            "\u001b[1m3/3\u001b[0m \u001b[32m━━━━━━━━━━━━━━━━━━━━\u001b[0m\u001b[37m\u001b[0m \u001b[1m0s\u001b[0m 33ms/step - accuracy: 0.6516 - loss: 0.5831 - val_accuracy: 0.5455 - val_loss: 0.8391\n",
            "Epoch 17/20\n",
            "\u001b[1m3/3\u001b[0m \u001b[32m━━━━━━━━━━━━━━━━━━━━\u001b[0m\u001b[37m\u001b[0m \u001b[1m0s\u001b[0m 35ms/step - accuracy: 0.7063 - loss: 0.5452 - val_accuracy: 0.5455 - val_loss: 0.8450\n",
            "Epoch 18/20\n",
            "\u001b[1m3/3\u001b[0m \u001b[32m━━━━━━━━━━━━━━━━━━━━\u001b[0m\u001b[37m\u001b[0m \u001b[1m0s\u001b[0m 37ms/step - accuracy: 0.7414 - loss: 0.5181 - val_accuracy: 0.5455 - val_loss: 0.8489\n",
            "Epoch 19/20\n",
            "\u001b[1m3/3\u001b[0m \u001b[32m━━━━━━━━━━━━━━━━━━━━\u001b[0m\u001b[37m\u001b[0m \u001b[1m0s\u001b[0m 34ms/step - accuracy: 0.6771 - loss: 0.5523 - val_accuracy: 0.5909 - val_loss: 0.8506\n",
            "Epoch 20/20\n",
            "\u001b[1m3/3\u001b[0m \u001b[32m━━━━━━━━━━━━━━━━━━━━\u001b[0m\u001b[37m\u001b[0m \u001b[1m0s\u001b[0m 33ms/step - accuracy: 0.6789 - loss: 0.5572 - val_accuracy: 0.5909 - val_loss: 0.8514\n"
          ]
        },
        {
          "output_type": "execute_result",
          "data": {
            "text/plain": [
              "<keras.src.callbacks.history.History at 0x7d8745dcb490>"
            ]
          },
          "metadata": {},
          "execution_count": 30
        }
      ]
    },
    {
      "cell_type": "code",
      "source": [
        "import matplotlib.pyplot as plt\n",
        "\n",
        "# Accuracy Plot\n",
        "plt.figure(figsize=(10, 5))\n",
        "plt.plot(history.history['accuracy'], label='Train Accuracy')\n",
        "plt.plot(history.history['val_accuracy'], label='Validation Accuracy')\n",
        "plt.title('Model Accuracy Over Epochs')\n",
        "plt.xlabel('Epoch')\n",
        "plt.ylabel('Accuracy')\n",
        "plt.legend()\n",
        "plt.grid(True)\n",
        "plt.show()\n",
        "\n",
        "# Loss Plot\n",
        "plt.figure(figsize=(10, 5))\n",
        "plt.plot(history.history['loss'], label='Train Loss')\n",
        "plt.plot(history.history['val_loss'], label='Validation Loss')\n",
        "plt.title('Model Loss Over Epochs')\n",
        "plt.xlabel('Epoch')\n",
        "plt.ylabel('Loss')\n",
        "plt.legend()\n",
        "plt.grid(True)\n",
        "plt.show()\n",
        "\n"
      ],
      "metadata": {
        "colab": {
          "base_uri": "https://localhost:8080/",
          "height": 957
        },
        "id": "9Ydzz6tXDWsu",
        "outputId": "7ed73e80-aca2-4b79-83af-da4dc2e43347"
      },
      "execution_count": null,
      "outputs": [
        {
          "output_type": "display_data",
          "data": {
            "text/plain": [
              "<Figure size 1000x500 with 1 Axes>"
            ],
            "image/png": "[encoded data removed]"
          },
          "metadata": {}
        },
        {
          "output_type": "display_data",
          "data": {
            "text/plain": [
              "<Figure size 1000x500 with 1 Axes>"
            ],
            "image/png": "[encoded data removed]"
          },
          "metadata": {}
        }
      ]
    },
    {
      "cell_type": "code",
      "source": [],
      "metadata": {
        "id": "7xfD-J08IDkH"
      },
      "execution_count": null,
      "outputs": []
    }
  ]
}